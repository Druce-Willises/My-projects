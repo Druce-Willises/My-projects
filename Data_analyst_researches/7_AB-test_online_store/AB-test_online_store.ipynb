{
 "cells": [
  {
   "cell_type": "markdown",
   "id": "10c0fa34",
   "metadata": {},
   "source": [
    "# A/B-тест гипотезы по увеличению выручки крупного интернет-магазина"
   ]
  },
  {
   "cell_type": "markdown",
   "id": "94fc57c9",
   "metadata": {},
   "source": [
    "Цель: выбрать гипотезу с наибольшим потцениалом для увеличения выручки интрнет-магазина, после чего провести А/Б тестирование и проанализировать результаты."
   ]
  },
  {
   "cell_type": "markdown",
   "id": "dc855150",
   "metadata": {
    "toc": true
   },
   "source": [
    "<h1>Содержание<span class=\"tocSkip\"></span></h1>\n",
    "<div class=\"toc\"><ul class=\"toc-item\"><li><span><a href=\"#Описание-проекта\" data-toc-modified-id=\"Описание-проекта-1\"><span class=\"toc-item-num\">1&nbsp;&nbsp;</span>Описание проекта</a></span></li><li><span><a href=\"#Описание-данных\" data-toc-modified-id=\"Описание-данных-2\"><span class=\"toc-item-num\">2&nbsp;&nbsp;</span>Описание данных</a></span></li><li><span><a href=\"#Приоритизация-гипотез\" data-toc-modified-id=\"Приоритизация-гипотез-3\"><span class=\"toc-item-num\">3&nbsp;&nbsp;</span>Приоритизация гипотез</a></span></li><li><span><a href=\"#Проверка-корректности-данных-A/B-теста\" data-toc-modified-id=\"Проверка-корректности-данных-A/B-теста-4\"><span class=\"toc-item-num\">4&nbsp;&nbsp;</span>Проверка корректности данных A/B-теста</a></span></li><li><span><a href=\"#Построение-графиков-по-результатам-A/B-теста\" data-toc-modified-id=\"Построение-графиков-по-результатам-A/B-теста-5\"><span class=\"toc-item-num\">5&nbsp;&nbsp;</span>Построение графиков по результатам A/B теста</a></span></li><li><span><a href=\"#Исследование-данных.-Поиск-аномальных-значений\" data-toc-modified-id=\"Исследование-данных.-Поиск-аномальных-значений-6\"><span class=\"toc-item-num\">6&nbsp;&nbsp;</span>Исследование данных. Поиск аномальных значений</a></span></li><li><span><a href=\"#Статистическая-значимость-результатов-A/B-теста-без-фильтра-выбросов.\" data-toc-modified-id=\"Статистическая-значимость-результатов-A/B-теста-без-фильтра-выбросов.-7\"><span class=\"toc-item-num\">7&nbsp;&nbsp;</span>Статистическая значимость результатов A/B теста без фильтра выбросов.</a></span></li><li><span><a href=\"#Построение-графиков-по-данным-без-аномальных-значений\" data-toc-modified-id=\"Построение-графиков-по-данным-без-аномальных-значений-8\"><span class=\"toc-item-num\">8&nbsp;&nbsp;</span>Построение графиков по данным без аномальных значений</a></span></li><li><span><a href=\"#Статистическая-значимость-результатов-A/B-теста-после-фильтра-выбросов\" data-toc-modified-id=\"Статистическая-значимость-результатов-A/B-теста-после-фильтра-выбросов-9\"><span class=\"toc-item-num\">9&nbsp;&nbsp;</span>Статистическая значимость результатов A/B теста после фильтра выбросов</a></span></li><li><span><a href=\"#Выводы-и-рекомендации\" data-toc-modified-id=\"Выводы-и-рекомендации-10\"><span class=\"toc-item-num\">10&nbsp;&nbsp;</span>Выводы и рекомендации</a></span></li></ul></div>"
   ]
  },
  {
   "cell_type": "markdown",
   "id": "c6daa2e3",
   "metadata": {},
   "source": [
    "## Описание проекта"
   ]
  },
  {
   "cell_type": "markdown",
   "id": "2a99f379",
   "metadata": {},
   "source": [
    "Будучи аналитиком крупного интернет-магазина вместе с отделом маркетинга подготовили список гипотез для увеличения выручки. Необходимо выбрать наиболее значимую и проанализировать ее эффективность с помощью A/B теста."
   ]
  },
  {
   "cell_type": "markdown",
   "id": "16ee79d5",
   "metadata": {},
   "source": [
    "## Описание данных"
   ]
  },
  {
   "cell_type": "markdown",
   "id": "991e7c5f",
   "metadata": {},
   "source": [
    "Таблица **hypothesis** \\\n",
    "`Hypothesis` — краткое описание гипотезы; \\\n",
    "`Reach` — охват пользователей по 10-балльной шкале;\\\n",
    "`Impact` — влияние на пользователей по 10-балльной шкале;\\\n",
    "`Confidence` — уверенность в гипотезе по 10-балльной шкале;\\\n",
    "`Efforts` — затраты ресурсов на проверку гипотезы по 10-балльной шкале. Чем больше значение Efforts, тем дороже проверка гипотезы.\\\n",
    "\n",
    "Таблица **orders** \\\n",
    "`transacti onId` — идентификатор заказа;\\\n",
    "`visitorId` — идентификатор пользователя, совершившего заказ;\\\n",
    "`date` — дата, когда был совершён заказ;\\\n",
    "`revenue` — выручка заказа;\\\n",
    "`group` — группа A/B-теста, в которую попал заказ.\\\n",
    "\n",
    "Таблица **visitors** \\\n",
    "`date` — дата;\\\n",
    "`group` — группа A/B-теста;\\\n",
    "`visitors` — количество пользователей в указанную дату в указанной группе A/B-теста\\\n"
   ]
  },
  {
   "cell_type": "markdown",
   "id": "2b9ae4bc",
   "metadata": {},
   "source": [
    "## Приоритизация гипотез\n"
   ]
  },
  {
   "cell_type": "code",
   "execution_count": 138,
   "id": "0cbf9ee4",
   "metadata": {},
   "outputs": [],
   "source": [
    "import pandas as pd\n",
    "import scipy.stats as st\n",
    "import matplotlib.pyplot as plt\n",
    "import seaborn as sns\n",
    "import numpy as np\n",
    "import datetime as dt\n",
    "import matplotlib.ticker as ticker"
   ]
  },
  {
   "cell_type": "code",
   "execution_count": 139,
   "id": "b6cf0146",
   "metadata": {},
   "outputs": [],
   "source": [
    "try:\n",
    "    hypothesis = pd.read_csv('D:\\Jypiter\\datasets\\AB-test_online_store\\hypothesis.csv')\n",
    "except:\n",
    "    hypothesis = pd.read_csv('/datasets/hypothesis.csv')"
   ]
  },
  {
   "cell_type": "code",
   "execution_count": 140,
   "id": "1cebe12e",
   "metadata": {},
   "outputs": [
    {
     "data": {
      "text/html": [
       "<div>\n",
       "<style scoped>\n",
       "    .dataframe tbody tr th:only-of-type {\n",
       "        vertical-align: middle;\n",
       "    }\n",
       "\n",
       "    .dataframe tbody tr th {\n",
       "        vertical-align: top;\n",
       "    }\n",
       "\n",
       "    .dataframe thead th {\n",
       "        text-align: right;\n",
       "    }\n",
       "</style>\n",
       "<table border=\"1\" class=\"dataframe\">\n",
       "  <thead>\n",
       "    <tr style=\"text-align: right;\">\n",
       "      <th></th>\n",
       "      <th>hypothesis</th>\n",
       "      <th>reach</th>\n",
       "      <th>impact</th>\n",
       "      <th>confidence</th>\n",
       "      <th>efforts</th>\n",
       "    </tr>\n",
       "  </thead>\n",
       "  <tbody>\n",
       "    <tr>\n",
       "      <th>0</th>\n",
       "      <td>Добавить два новых канала привлечения трафика, что позволит привлекать на 30% больше пользователей</td>\n",
       "      <td>3</td>\n",
       "      <td>10</td>\n",
       "      <td>8</td>\n",
       "      <td>6</td>\n",
       "    </tr>\n",
       "    <tr>\n",
       "      <th>1</th>\n",
       "      <td>Запустить собственную службу доставки, что сократит срок доставки заказов</td>\n",
       "      <td>2</td>\n",
       "      <td>5</td>\n",
       "      <td>4</td>\n",
       "      <td>10</td>\n",
       "    </tr>\n",
       "    <tr>\n",
       "      <th>2</th>\n",
       "      <td>Добавить блоки рекомендаций товаров на сайт интернет магазина, чтобы повысить конверсию и средний чек заказа</td>\n",
       "      <td>8</td>\n",
       "      <td>3</td>\n",
       "      <td>7</td>\n",
       "      <td>3</td>\n",
       "    </tr>\n",
       "    <tr>\n",
       "      <th>3</th>\n",
       "      <td>Изменить структура категорий, что увеличит конверсию, т.к. пользователи быстрее найдут нужный товар</td>\n",
       "      <td>8</td>\n",
       "      <td>3</td>\n",
       "      <td>3</td>\n",
       "      <td>8</td>\n",
       "    </tr>\n",
       "    <tr>\n",
       "      <th>4</th>\n",
       "      <td>Изменить цвет фона главной страницы, чтобы увеличить вовлеченность пользователей</td>\n",
       "      <td>3</td>\n",
       "      <td>1</td>\n",
       "      <td>1</td>\n",
       "      <td>1</td>\n",
       "    </tr>\n",
       "    <tr>\n",
       "      <th>5</th>\n",
       "      <td>Добавить страницу отзывов клиентов о магазине, что позволит увеличить количество заказов</td>\n",
       "      <td>3</td>\n",
       "      <td>2</td>\n",
       "      <td>2</td>\n",
       "      <td>3</td>\n",
       "    </tr>\n",
       "    <tr>\n",
       "      <th>6</th>\n",
       "      <td>Показать на главной странице баннеры с актуальными акциями и распродажами, чтобы увеличить конверсию</td>\n",
       "      <td>5</td>\n",
       "      <td>3</td>\n",
       "      <td>8</td>\n",
       "      <td>3</td>\n",
       "    </tr>\n",
       "    <tr>\n",
       "      <th>7</th>\n",
       "      <td>Добавить форму подписки на все основные страницы, чтобы собрать базу клиентов для email-рассылок</td>\n",
       "      <td>10</td>\n",
       "      <td>7</td>\n",
       "      <td>8</td>\n",
       "      <td>5</td>\n",
       "    </tr>\n",
       "    <tr>\n",
       "      <th>8</th>\n",
       "      <td>Запустить акцию, дающую скидку на товар в день рождения</td>\n",
       "      <td>1</td>\n",
       "      <td>9</td>\n",
       "      <td>9</td>\n",
       "      <td>5</td>\n",
       "    </tr>\n",
       "  </tbody>\n",
       "</table>\n",
       "</div>"
      ],
      "text/plain": [
       "                                                                                                     hypothesis  \\\n",
       "0  Добавить два новых канала привлечения трафика, что позволит привлекать на 30% больше пользователей             \n",
       "1  Запустить собственную службу доставки, что сократит срок доставки заказов                                      \n",
       "2  Добавить блоки рекомендаций товаров на сайт интернет магазина, чтобы повысить конверсию и средний чек заказа   \n",
       "3  Изменить структура категорий, что увеличит конверсию, т.к. пользователи быстрее найдут нужный товар            \n",
       "4  Изменить цвет фона главной страницы, чтобы увеличить вовлеченность пользователей                               \n",
       "5  Добавить страницу отзывов клиентов о магазине, что позволит увеличить количество заказов                       \n",
       "6  Показать на главной странице баннеры с актуальными акциями и распродажами, чтобы увеличить конверсию           \n",
       "7  Добавить форму подписки на все основные страницы, чтобы собрать базу клиентов для email-рассылок               \n",
       "8  Запустить акцию, дающую скидку на товар в день рождения                                                        \n",
       "\n",
       "   reach  impact  confidence  efforts  \n",
       "0  3      10      8           6        \n",
       "1  2      5       4           10       \n",
       "2  8      3       7           3        \n",
       "3  8      3       3           8        \n",
       "4  3      1       1           1        \n",
       "5  3      2       2           3        \n",
       "6  5      3       8           3        \n",
       "7  10     7       8           5        \n",
       "8  1      9       9           5        "
      ]
     },
     "execution_count": 140,
     "metadata": {},
     "output_type": "execute_result"
    }
   ],
   "source": [
    "hypothesis.columns = hypothesis.columns.str.lower()\n",
    "hypothesis.head(10)"
   ]
  },
  {
   "cell_type": "code",
   "execution_count": 141,
   "id": "3fd5b2ae",
   "metadata": {},
   "outputs": [
    {
     "name": "stdout",
     "output_type": "stream",
     "text": [
      "<class 'pandas.core.frame.DataFrame'>\n",
      "RangeIndex: 9 entries, 0 to 8\n",
      "Data columns (total 5 columns):\n",
      " #   Column      Non-Null Count  Dtype \n",
      "---  ------      --------------  ----- \n",
      " 0   hypothesis  9 non-null      object\n",
      " 1   reach       9 non-null      int64 \n",
      " 2   impact      9 non-null      int64 \n",
      " 3   confidence  9 non-null      int64 \n",
      " 4   efforts     9 non-null      int64 \n",
      "dtypes: int64(4), object(1)\n",
      "memory usage: 488.0+ bytes\n"
     ]
    }
   ],
   "source": [
    "hypothesis.info()"
   ]
  },
  {
   "cell_type": "markdown",
   "id": "7c47db5a",
   "metadata": {},
   "source": [
    "Пропусков нет, типа данных соответсвуют значениям. Можно работать с таблицей."
   ]
  },
  {
   "cell_type": "code",
   "execution_count": 142,
   "id": "87f6d3df",
   "metadata": {},
   "outputs": [
    {
     "data": {
      "text/html": [
       "<div>\n",
       "<style scoped>\n",
       "    .dataframe tbody tr th:only-of-type {\n",
       "        vertical-align: middle;\n",
       "    }\n",
       "\n",
       "    .dataframe tbody tr th {\n",
       "        vertical-align: top;\n",
       "    }\n",
       "\n",
       "    .dataframe thead th {\n",
       "        text-align: right;\n",
       "    }\n",
       "</style>\n",
       "<table border=\"1\" class=\"dataframe\">\n",
       "  <thead>\n",
       "    <tr style=\"text-align: right;\">\n",
       "      <th></th>\n",
       "      <th>hypothesis</th>\n",
       "      <th>reach</th>\n",
       "      <th>impact</th>\n",
       "      <th>confidence</th>\n",
       "      <th>efforts</th>\n",
       "      <th>ICE</th>\n",
       "    </tr>\n",
       "  </thead>\n",
       "  <tbody>\n",
       "    <tr>\n",
       "      <th>8</th>\n",
       "      <td>Запустить акцию, дающую скидку на товар в день рождения</td>\n",
       "      <td>1</td>\n",
       "      <td>9</td>\n",
       "      <td>9</td>\n",
       "      <td>5</td>\n",
       "      <td>16.2</td>\n",
       "    </tr>\n",
       "    <tr>\n",
       "      <th>0</th>\n",
       "      <td>Добавить два новых канала привлечения трафика, что позволит привлекать на 30% больше пользователей</td>\n",
       "      <td>3</td>\n",
       "      <td>10</td>\n",
       "      <td>8</td>\n",
       "      <td>6</td>\n",
       "      <td>13.3</td>\n",
       "    </tr>\n",
       "    <tr>\n",
       "      <th>7</th>\n",
       "      <td>Добавить форму подписки на все основные страницы, чтобы собрать базу клиентов для email-рассылок</td>\n",
       "      <td>10</td>\n",
       "      <td>7</td>\n",
       "      <td>8</td>\n",
       "      <td>5</td>\n",
       "      <td>11.2</td>\n",
       "    </tr>\n",
       "    <tr>\n",
       "      <th>6</th>\n",
       "      <td>Показать на главной странице баннеры с актуальными акциями и распродажами, чтобы увеличить конверсию</td>\n",
       "      <td>5</td>\n",
       "      <td>3</td>\n",
       "      <td>8</td>\n",
       "      <td>3</td>\n",
       "      <td>8.0</td>\n",
       "    </tr>\n",
       "    <tr>\n",
       "      <th>2</th>\n",
       "      <td>Добавить блоки рекомендаций товаров на сайт интернет магазина, чтобы повысить конверсию и средний чек заказа</td>\n",
       "      <td>8</td>\n",
       "      <td>3</td>\n",
       "      <td>7</td>\n",
       "      <td>3</td>\n",
       "      <td>7.0</td>\n",
       "    </tr>\n",
       "    <tr>\n",
       "      <th>1</th>\n",
       "      <td>Запустить собственную службу доставки, что сократит срок доставки заказов</td>\n",
       "      <td>2</td>\n",
       "      <td>5</td>\n",
       "      <td>4</td>\n",
       "      <td>10</td>\n",
       "      <td>2.0</td>\n",
       "    </tr>\n",
       "    <tr>\n",
       "      <th>5</th>\n",
       "      <td>Добавить страницу отзывов клиентов о магазине, что позволит увеличить количество заказов</td>\n",
       "      <td>3</td>\n",
       "      <td>2</td>\n",
       "      <td>2</td>\n",
       "      <td>3</td>\n",
       "      <td>1.3</td>\n",
       "    </tr>\n",
       "    <tr>\n",
       "      <th>3</th>\n",
       "      <td>Изменить структура категорий, что увеличит конверсию, т.к. пользователи быстрее найдут нужный товар</td>\n",
       "      <td>8</td>\n",
       "      <td>3</td>\n",
       "      <td>3</td>\n",
       "      <td>8</td>\n",
       "      <td>1.1</td>\n",
       "    </tr>\n",
       "    <tr>\n",
       "      <th>4</th>\n",
       "      <td>Изменить цвет фона главной страницы, чтобы увеличить вовлеченность пользователей</td>\n",
       "      <td>3</td>\n",
       "      <td>1</td>\n",
       "      <td>1</td>\n",
       "      <td>1</td>\n",
       "      <td>1.0</td>\n",
       "    </tr>\n",
       "  </tbody>\n",
       "</table>\n",
       "</div>"
      ],
      "text/plain": [
       "                                                                                                     hypothesis  \\\n",
       "8  Запустить акцию, дающую скидку на товар в день рождения                                                        \n",
       "0  Добавить два новых канала привлечения трафика, что позволит привлекать на 30% больше пользователей             \n",
       "7  Добавить форму подписки на все основные страницы, чтобы собрать базу клиентов для email-рассылок               \n",
       "6  Показать на главной странице баннеры с актуальными акциями и распродажами, чтобы увеличить конверсию           \n",
       "2  Добавить блоки рекомендаций товаров на сайт интернет магазина, чтобы повысить конверсию и средний чек заказа   \n",
       "1  Запустить собственную службу доставки, что сократит срок доставки заказов                                      \n",
       "5  Добавить страницу отзывов клиентов о магазине, что позволит увеличить количество заказов                       \n",
       "3  Изменить структура категорий, что увеличит конверсию, т.к. пользователи быстрее найдут нужный товар            \n",
       "4  Изменить цвет фона главной страницы, чтобы увеличить вовлеченность пользователей                               \n",
       "\n",
       "   reach  impact  confidence  efforts   ICE  \n",
       "8  1      9       9           5        16.2  \n",
       "0  3      10      8           6        13.3  \n",
       "7  10     7       8           5        11.2  \n",
       "6  5      3       8           3        8.0   \n",
       "2  8      3       7           3        7.0   \n",
       "1  2      5       4           10       2.0   \n",
       "5  3      2       2           3        1.3   \n",
       "3  8      3       3           8        1.1   \n",
       "4  3      1       1           1        1.0   "
      ]
     },
     "execution_count": 142,
     "metadata": {},
     "output_type": "execute_result"
    }
   ],
   "source": [
    "hypothesis['ICE'] = round(hypothesis['impact'] * hypothesis['confidence'] / hypothesis['efforts'], 1)\n",
    "pd.set_option('display.max_colwidth', 0)\n",
    "hypothesis.sort_values(by='ICE', ascending=False).head(10)"
   ]
  },
  {
   "cell_type": "code",
   "execution_count": 143,
   "id": "3dbc1109",
   "metadata": {
    "scrolled": true
   },
   "outputs": [
    {
     "data": {
      "text/html": [
       "<div>\n",
       "<style scoped>\n",
       "    .dataframe tbody tr th:only-of-type {\n",
       "        vertical-align: middle;\n",
       "    }\n",
       "\n",
       "    .dataframe tbody tr th {\n",
       "        vertical-align: top;\n",
       "    }\n",
       "\n",
       "    .dataframe thead th {\n",
       "        text-align: right;\n",
       "    }\n",
       "</style>\n",
       "<table border=\"1\" class=\"dataframe\">\n",
       "  <thead>\n",
       "    <tr style=\"text-align: right;\">\n",
       "      <th></th>\n",
       "      <th>hypothesis</th>\n",
       "      <th>reach</th>\n",
       "      <th>impact</th>\n",
       "      <th>confidence</th>\n",
       "      <th>efforts</th>\n",
       "      <th>ICE</th>\n",
       "      <th>RICE</th>\n",
       "    </tr>\n",
       "  </thead>\n",
       "  <tbody>\n",
       "    <tr>\n",
       "      <th>7</th>\n",
       "      <td>Добавить форму подписки на все основные страницы, чтобы собрать базу клиентов для email-рассылок</td>\n",
       "      <td>10</td>\n",
       "      <td>7</td>\n",
       "      <td>8</td>\n",
       "      <td>5</td>\n",
       "      <td>11.2</td>\n",
       "      <td>112.0</td>\n",
       "    </tr>\n",
       "    <tr>\n",
       "      <th>2</th>\n",
       "      <td>Добавить блоки рекомендаций товаров на сайт интернет магазина, чтобы повысить конверсию и средний чек заказа</td>\n",
       "      <td>8</td>\n",
       "      <td>3</td>\n",
       "      <td>7</td>\n",
       "      <td>3</td>\n",
       "      <td>7.0</td>\n",
       "      <td>56.0</td>\n",
       "    </tr>\n",
       "    <tr>\n",
       "      <th>0</th>\n",
       "      <td>Добавить два новых канала привлечения трафика, что позволит привлекать на 30% больше пользователей</td>\n",
       "      <td>3</td>\n",
       "      <td>10</td>\n",
       "      <td>8</td>\n",
       "      <td>6</td>\n",
       "      <td>13.3</td>\n",
       "      <td>40.0</td>\n",
       "    </tr>\n",
       "    <tr>\n",
       "      <th>6</th>\n",
       "      <td>Показать на главной странице баннеры с актуальными акциями и распродажами, чтобы увеличить конверсию</td>\n",
       "      <td>5</td>\n",
       "      <td>3</td>\n",
       "      <td>8</td>\n",
       "      <td>3</td>\n",
       "      <td>8.0</td>\n",
       "      <td>40.0</td>\n",
       "    </tr>\n",
       "    <tr>\n",
       "      <th>8</th>\n",
       "      <td>Запустить акцию, дающую скидку на товар в день рождения</td>\n",
       "      <td>1</td>\n",
       "      <td>9</td>\n",
       "      <td>9</td>\n",
       "      <td>5</td>\n",
       "      <td>16.2</td>\n",
       "      <td>16.2</td>\n",
       "    </tr>\n",
       "    <tr>\n",
       "      <th>3</th>\n",
       "      <td>Изменить структура категорий, что увеличит конверсию, т.к. пользователи быстрее найдут нужный товар</td>\n",
       "      <td>8</td>\n",
       "      <td>3</td>\n",
       "      <td>3</td>\n",
       "      <td>8</td>\n",
       "      <td>1.1</td>\n",
       "      <td>9.0</td>\n",
       "    </tr>\n",
       "    <tr>\n",
       "      <th>1</th>\n",
       "      <td>Запустить собственную службу доставки, что сократит срок доставки заказов</td>\n",
       "      <td>2</td>\n",
       "      <td>5</td>\n",
       "      <td>4</td>\n",
       "      <td>10</td>\n",
       "      <td>2.0</td>\n",
       "      <td>4.0</td>\n",
       "    </tr>\n",
       "    <tr>\n",
       "      <th>5</th>\n",
       "      <td>Добавить страницу отзывов клиентов о магазине, что позволит увеличить количество заказов</td>\n",
       "      <td>3</td>\n",
       "      <td>2</td>\n",
       "      <td>2</td>\n",
       "      <td>3</td>\n",
       "      <td>1.3</td>\n",
       "      <td>4.0</td>\n",
       "    </tr>\n",
       "    <tr>\n",
       "      <th>4</th>\n",
       "      <td>Изменить цвет фона главной страницы, чтобы увеличить вовлеченность пользователей</td>\n",
       "      <td>3</td>\n",
       "      <td>1</td>\n",
       "      <td>1</td>\n",
       "      <td>1</td>\n",
       "      <td>1.0</td>\n",
       "      <td>3.0</td>\n",
       "    </tr>\n",
       "  </tbody>\n",
       "</table>\n",
       "</div>"
      ],
      "text/plain": [
       "                                                                                                     hypothesis  \\\n",
       "7  Добавить форму подписки на все основные страницы, чтобы собрать базу клиентов для email-рассылок               \n",
       "2  Добавить блоки рекомендаций товаров на сайт интернет магазина, чтобы повысить конверсию и средний чек заказа   \n",
       "0  Добавить два новых канала привлечения трафика, что позволит привлекать на 30% больше пользователей             \n",
       "6  Показать на главной странице баннеры с актуальными акциями и распродажами, чтобы увеличить конверсию           \n",
       "8  Запустить акцию, дающую скидку на товар в день рождения                                                        \n",
       "3  Изменить структура категорий, что увеличит конверсию, т.к. пользователи быстрее найдут нужный товар            \n",
       "1  Запустить собственную службу доставки, что сократит срок доставки заказов                                      \n",
       "5  Добавить страницу отзывов клиентов о магазине, что позволит увеличить количество заказов                       \n",
       "4  Изменить цвет фона главной страницы, чтобы увеличить вовлеченность пользователей                               \n",
       "\n",
       "   reach  impact  confidence  efforts   ICE   RICE  \n",
       "7  10     7       8           5        11.2  112.0  \n",
       "2  8      3       7           3        7.0   56.0   \n",
       "0  3      10      8           6        13.3  40.0   \n",
       "6  5      3       8           3        8.0   40.0   \n",
       "8  1      9       9           5        16.2  16.2   \n",
       "3  8      3       3           8        1.1   9.0    \n",
       "1  2      5       4           10       2.0   4.0    \n",
       "5  3      2       2           3        1.3   4.0    \n",
       "4  3      1       1           1        1.0   3.0    "
      ]
     },
     "execution_count": 143,
     "metadata": {},
     "output_type": "execute_result"
    }
   ],
   "source": [
    "hypothesis['RICE'] = round(hypothesis['reach'] * hypothesis['impact'] * hypothesis['confidence'] / hypothesis['efforts'], 1)\n",
    "hypothesis.sort_values(by='RICE', ascending=False).head(10)"
   ]
  },
  {
   "cell_type": "markdown",
   "id": "c88c30b8",
   "metadata": {},
   "source": [
    "<div style=\"border:solid Green 2px; padding: 20px\">\n",
    "    \n",
    "Видно, что при применений разных методов приоритизации, в верхней части списка оказались разные гипотезы.\n",
    "- для ICE: 8, 0, 7\n",
    "- для RICE: 7, 2, 0\n",
    "\n",
    "Произошло это по причине того, что **RICE** учитывает охват (`RICE = reach * ICE`).\n",
    "\n",
    "Поскольку ключевая метрика, роста которой мы хотим добиться, это **выручка**, которая зависит от охвата, то ориентироваться лучше на показатель **RICE**.\n",
    "\n",
    "Таким образом наиболее приоритетной гипотезой к проверке является №7: Добавить форму подписки на все основные страницы, чтобы собрать базу клиентов для email-рассылок"
   ]
  },
  {
   "cell_type": "markdown",
   "id": "31cc48fe",
   "metadata": {},
   "source": [
    "## Проверка корректности данных A/B-теста"
   ]
  },
  {
   "cell_type": "code",
   "execution_count": 144,
   "id": "f715d80e",
   "metadata": {
    "scrolled": true
   },
   "outputs": [],
   "source": [
    "try:\n",
    "    orders = pd.read_csv('D:\\Jypiter\\datasets\\AB-test_online_store\\orders.csv')\n",
    "    visitors = pd.read_csv('D:\\Jypiter\\datasets\\AB-test_online_store\\\\visitors.csv')    \n",
    "except:\n",
    "    orders = pd.read_csv('/datasets/orders.csv')\n",
    "    visitors = pd.read_csv('/datasets/visitors.csv')"
   ]
  },
  {
   "cell_type": "code",
   "execution_count": 145,
   "id": "bdb4a573",
   "metadata": {
    "scrolled": true
   },
   "outputs": [
    {
     "data": {
      "text/html": [
       "<div>\n",
       "<style scoped>\n",
       "    .dataframe tbody tr th:only-of-type {\n",
       "        vertical-align: middle;\n",
       "    }\n",
       "\n",
       "    .dataframe tbody tr th {\n",
       "        vertical-align: top;\n",
       "    }\n",
       "\n",
       "    .dataframe thead th {\n",
       "        text-align: right;\n",
       "    }\n",
       "</style>\n",
       "<table border=\"1\" class=\"dataframe\">\n",
       "  <thead>\n",
       "    <tr style=\"text-align: right;\">\n",
       "      <th></th>\n",
       "      <th>transactionId</th>\n",
       "      <th>visitorId</th>\n",
       "      <th>date</th>\n",
       "      <th>revenue</th>\n",
       "      <th>group</th>\n",
       "    </tr>\n",
       "  </thead>\n",
       "  <tbody>\n",
       "    <tr>\n",
       "      <th>0</th>\n",
       "      <td>3667963787</td>\n",
       "      <td>3312258926</td>\n",
       "      <td>2019-08-15</td>\n",
       "      <td>1650</td>\n",
       "      <td>B</td>\n",
       "    </tr>\n",
       "    <tr>\n",
       "      <th>1</th>\n",
       "      <td>2804400009</td>\n",
       "      <td>3642806036</td>\n",
       "      <td>2019-08-15</td>\n",
       "      <td>730</td>\n",
       "      <td>B</td>\n",
       "    </tr>\n",
       "    <tr>\n",
       "      <th>2</th>\n",
       "      <td>2961555356</td>\n",
       "      <td>4069496402</td>\n",
       "      <td>2019-08-15</td>\n",
       "      <td>400</td>\n",
       "      <td>A</td>\n",
       "    </tr>\n",
       "    <tr>\n",
       "      <th>3</th>\n",
       "      <td>3797467345</td>\n",
       "      <td>1196621759</td>\n",
       "      <td>2019-08-15</td>\n",
       "      <td>9759</td>\n",
       "      <td>B</td>\n",
       "    </tr>\n",
       "    <tr>\n",
       "      <th>4</th>\n",
       "      <td>2282983706</td>\n",
       "      <td>2322279887</td>\n",
       "      <td>2019-08-15</td>\n",
       "      <td>2308</td>\n",
       "      <td>B</td>\n",
       "    </tr>\n",
       "    <tr>\n",
       "      <th>5</th>\n",
       "      <td>182168103</td>\n",
       "      <td>935554773</td>\n",
       "      <td>2019-08-15</td>\n",
       "      <td>2210</td>\n",
       "      <td>B</td>\n",
       "    </tr>\n",
       "    <tr>\n",
       "      <th>6</th>\n",
       "      <td>398296753</td>\n",
       "      <td>2900797465</td>\n",
       "      <td>2019-08-15</td>\n",
       "      <td>1860</td>\n",
       "      <td>B</td>\n",
       "    </tr>\n",
       "    <tr>\n",
       "      <th>7</th>\n",
       "      <td>2626614568</td>\n",
       "      <td>78758296</td>\n",
       "      <td>2019-08-15</td>\n",
       "      <td>1044</td>\n",
       "      <td>A</td>\n",
       "    </tr>\n",
       "    <tr>\n",
       "      <th>8</th>\n",
       "      <td>1576988021</td>\n",
       "      <td>295230930</td>\n",
       "      <td>2019-08-15</td>\n",
       "      <td>13710</td>\n",
       "      <td>A</td>\n",
       "    </tr>\n",
       "    <tr>\n",
       "      <th>9</th>\n",
       "      <td>1506739906</td>\n",
       "      <td>1882260405</td>\n",
       "      <td>2019-08-15</td>\n",
       "      <td>1855</td>\n",
       "      <td>B</td>\n",
       "    </tr>\n",
       "  </tbody>\n",
       "</table>\n",
       "</div>"
      ],
      "text/plain": [
       "   transactionId   visitorId        date  revenue group\n",
       "0  3667963787     3312258926  2019-08-15  1650     B   \n",
       "1  2804400009     3642806036  2019-08-15  730      B   \n",
       "2  2961555356     4069496402  2019-08-15  400      A   \n",
       "3  3797467345     1196621759  2019-08-15  9759     B   \n",
       "4  2282983706     2322279887  2019-08-15  2308     B   \n",
       "5  182168103      935554773   2019-08-15  2210     B   \n",
       "6  398296753      2900797465  2019-08-15  1860     B   \n",
       "7  2626614568     78758296    2019-08-15  1044     A   \n",
       "8  1576988021     295230930   2019-08-15  13710    A   \n",
       "9  1506739906     1882260405  2019-08-15  1855     B   "
      ]
     },
     "execution_count": 145,
     "metadata": {},
     "output_type": "execute_result"
    }
   ],
   "source": [
    "orders.head(10)"
   ]
  },
  {
   "cell_type": "code",
   "execution_count": 146,
   "id": "59e670d1",
   "metadata": {
    "scrolled": true
   },
   "outputs": [
    {
     "name": "stdout",
     "output_type": "stream",
     "text": [
      "<class 'pandas.core.frame.DataFrame'>\n",
      "RangeIndex: 1197 entries, 0 to 1196\n",
      "Data columns (total 5 columns):\n",
      " #   Column         Non-Null Count  Dtype \n",
      "---  ------         --------------  ----- \n",
      " 0   transactionId  1197 non-null   int64 \n",
      " 1   visitorId      1197 non-null   int64 \n",
      " 2   date           1197 non-null   object\n",
      " 3   revenue        1197 non-null   int64 \n",
      " 4   group          1197 non-null   object\n",
      "dtypes: int64(3), object(2)\n",
      "memory usage: 46.9+ KB\n"
     ]
    }
   ],
   "source": [
    "orders.info()"
   ]
  },
  {
   "cell_type": "code",
   "execution_count": 147,
   "id": "b852bda6",
   "metadata": {},
   "outputs": [
    {
     "data": {
      "text/html": [
       "<div>\n",
       "<style scoped>\n",
       "    .dataframe tbody tr th:only-of-type {\n",
       "        vertical-align: middle;\n",
       "    }\n",
       "\n",
       "    .dataframe tbody tr th {\n",
       "        vertical-align: top;\n",
       "    }\n",
       "\n",
       "    .dataframe thead th {\n",
       "        text-align: right;\n",
       "    }\n",
       "</style>\n",
       "<table border=\"1\" class=\"dataframe\">\n",
       "  <thead>\n",
       "    <tr style=\"text-align: right;\">\n",
       "      <th></th>\n",
       "      <th>date</th>\n",
       "      <th>group</th>\n",
       "      <th>visitors</th>\n",
       "    </tr>\n",
       "  </thead>\n",
       "  <tbody>\n",
       "    <tr>\n",
       "      <th>0</th>\n",
       "      <td>2019-08-01</td>\n",
       "      <td>A</td>\n",
       "      <td>719</td>\n",
       "    </tr>\n",
       "    <tr>\n",
       "      <th>1</th>\n",
       "      <td>2019-08-02</td>\n",
       "      <td>A</td>\n",
       "      <td>619</td>\n",
       "    </tr>\n",
       "    <tr>\n",
       "      <th>2</th>\n",
       "      <td>2019-08-03</td>\n",
       "      <td>A</td>\n",
       "      <td>507</td>\n",
       "    </tr>\n",
       "    <tr>\n",
       "      <th>3</th>\n",
       "      <td>2019-08-04</td>\n",
       "      <td>A</td>\n",
       "      <td>717</td>\n",
       "    </tr>\n",
       "    <tr>\n",
       "      <th>4</th>\n",
       "      <td>2019-08-05</td>\n",
       "      <td>A</td>\n",
       "      <td>756</td>\n",
       "    </tr>\n",
       "    <tr>\n",
       "      <th>5</th>\n",
       "      <td>2019-08-06</td>\n",
       "      <td>A</td>\n",
       "      <td>667</td>\n",
       "    </tr>\n",
       "    <tr>\n",
       "      <th>6</th>\n",
       "      <td>2019-08-07</td>\n",
       "      <td>A</td>\n",
       "      <td>644</td>\n",
       "    </tr>\n",
       "    <tr>\n",
       "      <th>7</th>\n",
       "      <td>2019-08-08</td>\n",
       "      <td>A</td>\n",
       "      <td>610</td>\n",
       "    </tr>\n",
       "    <tr>\n",
       "      <th>8</th>\n",
       "      <td>2019-08-09</td>\n",
       "      <td>A</td>\n",
       "      <td>617</td>\n",
       "    </tr>\n",
       "    <tr>\n",
       "      <th>9</th>\n",
       "      <td>2019-08-10</td>\n",
       "      <td>A</td>\n",
       "      <td>406</td>\n",
       "    </tr>\n",
       "  </tbody>\n",
       "</table>\n",
       "</div>"
      ],
      "text/plain": [
       "         date group  visitors\n",
       "0  2019-08-01  A     719     \n",
       "1  2019-08-02  A     619     \n",
       "2  2019-08-03  A     507     \n",
       "3  2019-08-04  A     717     \n",
       "4  2019-08-05  A     756     \n",
       "5  2019-08-06  A     667     \n",
       "6  2019-08-07  A     644     \n",
       "7  2019-08-08  A     610     \n",
       "8  2019-08-09  A     617     \n",
       "9  2019-08-10  A     406     "
      ]
     },
     "execution_count": 147,
     "metadata": {},
     "output_type": "execute_result"
    }
   ],
   "source": [
    "visitors.head(10)"
   ]
  },
  {
   "cell_type": "code",
   "execution_count": 148,
   "id": "44ca559e",
   "metadata": {
    "scrolled": true
   },
   "outputs": [
    {
     "name": "stdout",
     "output_type": "stream",
     "text": [
      "<class 'pandas.core.frame.DataFrame'>\n",
      "RangeIndex: 62 entries, 0 to 61\n",
      "Data columns (total 3 columns):\n",
      " #   Column    Non-Null Count  Dtype \n",
      "---  ------    --------------  ----- \n",
      " 0   date      62 non-null     object\n",
      " 1   group     62 non-null     object\n",
      " 2   visitors  62 non-null     int64 \n",
      "dtypes: int64(1), object(2)\n",
      "memory usage: 1.6+ KB\n"
     ]
    }
   ],
   "source": [
    "visitors.info()"
   ]
  },
  {
   "cell_type": "code",
   "execution_count": 149,
   "id": "acdca13b",
   "metadata": {},
   "outputs": [
    {
     "data": {
      "text/plain": [
       "transactionId    0\n",
       "visitorId        0\n",
       "date             0\n",
       "revenue          0\n",
       "group            0\n",
       "dtype: int64"
      ]
     },
     "execution_count": 149,
     "metadata": {},
     "output_type": "execute_result"
    }
   ],
   "source": [
    "orders.isna().sum()"
   ]
  },
  {
   "cell_type": "code",
   "execution_count": 150,
   "id": "71a9026b",
   "metadata": {
    "scrolled": true
   },
   "outputs": [
    {
     "data": {
      "text/plain": [
       "date        0\n",
       "group       0\n",
       "visitors    0\n",
       "dtype: int64"
      ]
     },
     "execution_count": 150,
     "metadata": {},
     "output_type": "execute_result"
    }
   ],
   "source": [
    "visitors.isna().sum()"
   ]
  },
  {
   "cell_type": "code",
   "execution_count": 151,
   "id": "93afab7a",
   "metadata": {},
   "outputs": [
    {
     "name": "stdout",
     "output_type": "stream",
     "text": [
      "Количество пропусков в таблице \"orders\": 0\n",
      "Количество пропусков в таблице \"visitors\": 0\n"
     ]
    }
   ],
   "source": [
    "print('Количество пропусков в таблице \"orders\":', orders.duplicated().sum())\n",
    "print('Количество пропусков в таблице \"visitors\":', visitors.duplicated().sum())"
   ]
  },
  {
   "cell_type": "markdown",
   "id": "5c993f8a",
   "metadata": {},
   "source": [
    "<div style=\"border:solid Green 2px; padding: 20px\">\n",
    "Пропусков и дубликатов нет, типы данных соответсвуют значениям. Можно работать с таблицей."
   ]
  },
  {
   "cell_type": "markdown",
   "id": "920ba1a0",
   "metadata": {},
   "source": [
    "<div style=\"border:solid Green 2px; padding: 20px\">\n",
    "Проверим корректность проведеного A/B тестирования.\n",
    "Из доступного можем оценить:\n",
    "- отсутствие пользователей, принадлежащих обеим группам;\n",
    "- равномерность количества пользователей в группах;\n",
    "- размер выборки для достоверной регистрации ожидаемого эффекта."
   ]
  },
  {
   "cell_type": "code",
   "execution_count": 152,
   "id": "9676fa59",
   "metadata": {
    "scrolled": true
   },
   "outputs": [
    {
     "name": "stdout",
     "output_type": "stream",
     "text": [
      "Длина таблицы \"orders\" до 1197\n",
      "Количество пользователей, попавших сразу в обе группы 58\n",
      "Длина таблицы \"orders\" после 1016\n"
     ]
    }
   ],
   "source": [
    "#Сгруппируем по visitorId. Агрегируем кол-во уникальных значений.\n",
    "users_grouped = orders.groupby('visitorId').nunique().sort_values(by='group', ascending=False)\n",
    "\n",
    "#Пользователей с двумя уникальными группами считаем задвоившимися\n",
    "doubled_users = users_grouped[users_grouped['group'] >= 2].index\n",
    "\n",
    "print('Длина таблицы \"orders\" до', len(orders))\n",
    "print('Количество пользователей, попавших сразу в обе группы', len(doubled_users))\n",
    "\n",
    "orders = orders.query('visitorId not in @doubled_users')\n",
    "print('Длина таблицы \"orders\" после', len(orders))"
   ]
  },
  {
   "cell_type": "code",
   "execution_count": 153,
   "id": "d243f0da",
   "metadata": {},
   "outputs": [
    {
     "name": "stdout",
     "output_type": "stream",
     "text": [
      "Пользователей в группе А: 18736\n",
      "Пользователей в группе В: 18916\n",
      "Относительное различие количества пользователей в группах 0.96%\n"
     ]
    }
   ],
   "source": [
    "print('Пользователей в группе А:', visitors[visitors['group'] == 'A']['visitors'].sum())\n",
    "print('Пользователей в группе В:', visitors[visitors['group'] == 'B']['visitors'].sum())\n",
    "\n",
    "print('Относительное различие количества пользователей в группах', \"{0:.2%}\"\n",
    "      .format(\n",
    "          round(\n",
    "              visitors[visitors['group'] == 'B']['visitors'].sum()\n",
    "              / visitors[visitors['group'] == 'A']['visitors'].sum() - 1,\n",
    "              4)\n",
    "      )\n",
    "     )"
   ]
  },
  {
   "cell_type": "markdown",
   "id": "92b0b9f7",
   "metadata": {},
   "source": [
    "<div style=\"border:solid Green 2px; padding: 20px\">\n",
    "Онлайн-калькулятор показал, что достаточное количество пользователей, необходимое для теста: 11000.\n",
    "Значит имеющиеся 36+ тысяч более чем достаточно."
   ]
  },
  {
   "cell_type": "markdown",
   "id": "fa135bd7",
   "metadata": {},
   "source": [
    "<div style=\"border:solid Green 2px; padding: 20px\">\n",
    "Вывод по разделу:\n",
    "1. Исключили записи с пользователями, попавшими в обе группы, т.к. не ясно, какая именна версия продукта повлияла на принятые ими решения.\n",
    "2. Выборки равномерны по группам. Различие <1%\n",
    "3. Данных достаточно для анализа и оценки статистической значимости"
   ]
  },
  {
   "cell_type": "markdown",
   "id": "4b15a702",
   "metadata": {},
   "source": [
    "## Построение графиков по результатам A/B теста"
   ]
  },
  {
   "cell_type": "markdown",
   "id": "a6aaa5ac",
   "metadata": {},
   "source": [
    "Построим график кумулятивной выручки по группам:"
   ]
  },
  {
   "cell_type": "code",
   "execution_count": 154,
   "id": "16c87a7d",
   "metadata": {},
   "outputs": [],
   "source": [
    "orders['date'] = orders['date'].map(\n",
    "    lambda x: dt.datetime.strptime(x, '%Y-%m-%d')\n",
    ")\n",
    "\n",
    "visitors['date'] = visitors['date'].map(\n",
    "    lambda x: dt.datetime.strptime(x, '%Y-%m-%d')\n",
    ")\n",
    "\n",
    "datesGroups = orders[['date', 'group']].drop_duplicates()\n",
    "\n",
    "cumulativeRevenue = datesGroups.apply(\n",
    "    lambda x: orders[\n",
    "        np.logical_and(\n",
    "            orders['date'] <= x['date'], orders['group'] == x['group']\n",
    "        )\n",
    "    ].agg(\n",
    "        {\n",
    "            'date': 'max',\n",
    "            'group': 'max',\n",
    "            'revenue': 'sum',\n",
    "        }\n",
    "    ),\n",
    "    axis=1,\n",
    ").sort_values(by=['date', 'group'])\n",
    "\n",
    "cumulativeRevenueA = cumulativeRevenue[cumulativeRevenue['group'] == 'A']\n",
    "cumulativeRevenueB = cumulativeRevenue[cumulativeRevenue['group'] == 'B']\n",
    "\n",
    "\n",
    "mergedCumulativeRevenue = cumulativeRevenueA[['date', 'revenue']].merge(cumulativeRevenueB[['date', 'revenue']], left_on='date', right_on='date', how='left', suffixes=['A', 'B'])\n"
   ]
  },
  {
   "cell_type": "code",
   "execution_count": 155,
   "id": "e4b45529",
   "metadata": {
    "scrolled": true
   },
   "outputs": [
    {
     "data": {
      "image/png": "[encoded data removed]",
      "text/plain": [
       "<Figure size 720x360 with 1 Axes>"
      ]
     },
     "metadata": {
      "needs_background": "light"
     },
     "output_type": "display_data"
    }
   ],
   "source": [
    "fig, ax = plt.subplots()\n",
    "\n",
    "plt.plot(mergedCumulativeRevenue['date'], mergedCumulativeRevenue['revenueA'], label='A')\n",
    "plt.plot(mergedCumulativeRevenue['date'], mergedCumulativeRevenue['revenueB'], label='B')\n",
    "\n",
    "fig.set_size_inches(10, 5)\n",
    "#  Устанавливаем интервал основных делений:\n",
    "ax.xaxis.set_major_locator(ticker.MultipleLocator(7))\n",
    "\n",
    "#  Устанавливаем интервал вспомогательных делений:\n",
    "ax.xaxis.set_minor_locator(ticker.MultipleLocator(1))\n",
    "\n",
    "plt.title('Кумулятивная выручка по дням эксперимента', fontsize=14) \n",
    "plt.xlabel('Дата', fontsize=13) \n",
    "plt.ylabel('Кумулятивная выручка', fontsize=13)\n",
    "plt.xticks(fontsize=12)\n",
    "plt.yticks(fontsize=12)\n",
    "\n",
    "plt.legend(fontsize=12) \n",
    "plt.show()"
   ]
  },
  {
   "cell_type": "markdown",
   "id": "33f8bd59",
   "metadata": {},
   "source": [
    "<div style=\"border:solid Green 2px; padding: 20px\">\n",
    "Из графика видно, что группа \"B\" почти на всем промежутке времени приносила больше выручки, и к концу исследования обогнала группа \"А\" на ~50%. \\\n",
    "Однако стоит учесть, что 19.08.2019 был резкий скачок по выручке в группе \"B\", что может свидетельствовать о крупных заказах в этот день, являющимися скорее случайностью, чем следствием внедрения нововведения. Такие выбросы мы позже отбросим при анализе результатов."
   ]
  },
  {
   "cell_type": "markdown",
   "id": "07024f93",
   "metadata": {},
   "source": [
    "<div style=\"border:solid Green 2px; padding: 20px\">\n",
    "Построим график кумулятивного среднего чека по группам:"
   ]
  },
  {
   "cell_type": "code",
   "execution_count": 156,
   "id": "60b5410f",
   "metadata": {},
   "outputs": [],
   "source": [
    "cumulativeAverageBill = datesGroups.apply(\n",
    "    lambda x: orders[\n",
    "        np.logical_and(\n",
    "            orders['date'] <= x['date'], orders['group'] == x['group']\n",
    "        )\n",
    "    ].agg(\n",
    "        {\n",
    "            'date': 'max',\n",
    "            'group': 'max',\n",
    "            'revenue': 'sum',\n",
    "            'visitorId': 'count'\n",
    "        }\n",
    "    ),\n",
    "    axis=1,\n",
    ").sort_values(by=['date', 'group'])\n",
    "\n",
    "cumulativeAverageBill.columns = ['date', 'group', 'revenue', 'buyers']\n",
    "\n",
    "cumulativeAverageBill['avg_bill'] = cumulativeAverageBill['revenue'] / cumulativeAverageBill['buyers']\n",
    "\n",
    "cumulativeAverageBillA = cumulativeAverageBill[cumulativeAverageBill['group'] == 'A']\n",
    "cumulativeAverageBillB = cumulativeAverageBill[cumulativeAverageBill['group'] == 'B']\n",
    "\n",
    "mergedCumulativeAverageBill = cumulativeAverageBillA[['date', 'avg_bill']].merge(cumulativeAverageBillB[['date', 'avg_bill']], left_on='date', right_on='date', how='left', suffixes=['A', 'B'])"
   ]
  },
  {
   "cell_type": "code",
   "execution_count": 157,
   "id": "0529f5cc",
   "metadata": {},
   "outputs": [
    {
     "data": {
      "image/png": "[encoded data removed]",
      "text/plain": [
       "<Figure size 720x360 with 1 Axes>"
      ]
     },
     "metadata": {
      "needs_background": "light"
     },
     "output_type": "display_data"
    }
   ],
   "source": [
    "fig, ax = plt.subplots()\n",
    "\n",
    "plt.plot(mergedCumulativeAverageBill['date'], mergedCumulativeAverageBill['avg_billA'], label='A')\n",
    "plt.plot(mergedCumulativeAverageBill['date'], mergedCumulativeAverageBill['avg_billB'], label='B')\n",
    "\n",
    "fig.set_size_inches(10, 5)\n",
    "#  Устанавливаем интервал основных делений:\n",
    "ax.xaxis.set_major_locator(ticker.MultipleLocator(7))\n",
    "\n",
    "#  Устанавливаем интервал вспомогательных делений:\n",
    "ax.xaxis.set_minor_locator(ticker.MultipleLocator(1))\n",
    "\n",
    "plt.title('Кумулятивный средний чек', fontsize=14) \n",
    "plt.xlabel('Дата', fontsize=13) \n",
    "plt.ylabel('Кумулятивный средний чек', fontsize=13)\n",
    "plt.xticks(fontsize=12)\n",
    "plt.yticks(fontsize=12)\n",
    "\n",
    "plt.legend(fontsize=12) \n",
    "plt.show()"
   ]
  },
  {
   "cell_type": "markdown",
   "id": "80779a02",
   "metadata": {},
   "source": [
    "<div style=\"border:solid Green 2px; padding: 20px\">\n",
    "Из графика видно, что по динамике среднего чека группы лидировали поочерёдно, но к концу исследования группа \"B\" обогнала группу \"A\" на ~30%. \n",
    "    \n",
    "Здесь также видно, что 19.08.2019 был резкий скачок по среднему чеку в группе \"B\", что может свидетельствовать о крупных заказах в этот день, являющимися скорее случайностью, чем следствием внедрения нововведения. Такие выбросы мы позже отбросим при анализе результатов"
   ]
  },
  {
   "cell_type": "markdown",
   "id": "1a7c8f69",
   "metadata": {},
   "source": [
    "<div style=\"border:solid Green 2px; padding: 20px\">\n",
    "Построим график относительного изменения кумулятивного среднего чека группы B к группе A:"
   ]
  },
  {
   "cell_type": "code",
   "execution_count": 158,
   "id": "d448eff8",
   "metadata": {},
   "outputs": [
    {
     "data": {
      "image/png": "[encoded data removed]",
      "text/plain": [
       "<Figure size 720x360 with 1 Axes>"
      ]
     },
     "metadata": {
      "needs_background": "light"
     },
     "output_type": "display_data"
    }
   ],
   "source": [
    "fig, ax = plt.subplots()\n",
    "\n",
    "plt.plot(mergedCumulativeAverageBill['date'], mergedCumulativeAverageBill['avg_billB'] / mergedCumulativeAverageBill['avg_billA'] - 1)\n",
    "plt.axhline(y=0, color='black', linestyle='--')\n",
    "\n",
    "fig.set_size_inches(10, 5)\n",
    "#  Устанавливаем интервал основных делений:\n",
    "ax.xaxis.set_major_locator(ticker.MultipleLocator(7))\n",
    "\n",
    "#  Устанавливаем интервал вспомогательных делений:\n",
    "ax.xaxis.set_minor_locator(ticker.MultipleLocator(1))\n",
    "\n",
    "plt.title('Относительное различие среднего чека групп \"B\" и \"A\"', fontsize=14) \n",
    "plt.xlabel('Дата', fontsize=13) \n",
    "plt.ylabel('Относительная разница', fontsize=13)\n",
    "plt.xticks(fontsize=12)\n",
    "plt.yticks(fontsize=12)\n",
    "\n",
    "plt.show()"
   ]
  },
  {
   "cell_type": "markdown",
   "id": "e551786a",
   "metadata": {},
   "source": [
    "<div style=\"border:solid Green 2px; padding: 20px\">\n",
    "График относительного изменения кумулятивного среднего чека группы B к группе A показывает попеременное лидерство групп, и итоговую победу группа \"B\" на ~30%. \\\n",
    "Помимо всплеска 19.08.2019 в группе \"B\", здесь лучше видно, что, возможно в группе \"А\" был всплески 8 и 9 августа. Сможем определить так ли это на этапе отбора аномальных значений."
   ]
  },
  {
   "cell_type": "markdown",
   "id": "f11cc232",
   "metadata": {},
   "source": [
    "<div style=\"border:solid Green 2px; padding: 20px\">\n",
    "Построим график кумулятивного среднего количества заказов на посетителя по группам:"
   ]
  },
  {
   "cell_type": "code",
   "execution_count": 159,
   "id": "11dc808a",
   "metadata": {},
   "outputs": [],
   "source": [
    "ordersAggregated = datesGroups.apply(\n",
    "    lambda x: orders[\n",
    "        np.logical_and(\n",
    "            orders['date'] <= x['date'], orders['group'] == x['group']\n",
    "        )\n",
    "    ].agg(\n",
    "        {\n",
    "            'date': 'max',\n",
    "            'group': 'max',\n",
    "            'transactionId': 'nunique',\n",
    "        }\n",
    "    ),\n",
    "    axis=1,\n",
    ").sort_values(by=['date', 'group'])\n",
    "\n",
    "visitorsAggregated = datesGroups.apply(\n",
    "    lambda x: visitors[\n",
    "        np.logical_and(\n",
    "            visitors['date'] <= x['date'], visitors['group'] == x['group']\n",
    "        )\n",
    "    ].agg({'date': 'max', 'group': 'max', 'visitors': 'sum'}),\n",
    "    axis=1,\n",
    ").sort_values(by=['date', 'group'])\n",
    "\n",
    "cumulativeData = ordersAggregated.merge(\n",
    "    visitorsAggregated, left_on=['date', 'group'], right_on=['date', 'group']\n",
    ")\n",
    "cumulativeData.columns = [\n",
    "    'date',\n",
    "    'group',\n",
    "    'orders',\n",
    "    'visitors',\n",
    "]\n",
    "\n",
    "cumulativeData['avg_purchases_per_visitor'] = (\n",
    "    cumulativeData['orders'] / cumulativeData['visitors']\n",
    ")\n",
    "\n",
    "cumulativeDataA = cumulativeData[cumulativeData['group'] == 'A']\n",
    "cumulativeDataB = cumulativeData[cumulativeData['group'] == 'B']\n",
    "\n",
    "mergedCumulativeAvgPurchases = cumulativeDataA[['date', 'avg_purchases_per_visitor']].merge(cumulativeDataB[['date', 'avg_purchases_per_visitor']], left_on='date', right_on='date', how='left', suffixes=['_A', '_B'])\n",
    "\n"
   ]
  },
  {
   "cell_type": "code",
   "execution_count": 160,
   "id": "6348db87",
   "metadata": {},
   "outputs": [
    {
     "data": {
      "image/png": "[encoded data removed]",
      "text/plain": [
       "<Figure size 720x360 with 1 Axes>"
      ]
     },
     "metadata": {
      "needs_background": "light"
     },
     "output_type": "display_data"
    }
   ],
   "source": [
    "fig, ax = plt.subplots()\n",
    "\n",
    "plt.plot(mergedCumulativeAvgPurchases['date'], mergedCumulativeAvgPurchases['avg_purchases_per_visitor_A'], label='A')\n",
    "plt.plot(mergedCumulativeAvgPurchases['date'], mergedCumulativeAvgPurchases['avg_purchases_per_visitor_B'], label='B')\n",
    "\n",
    "fig.set_size_inches(10, 5)\n",
    "#  Устанавливаем интервал основных делений:\n",
    "ax.xaxis.set_major_locator(ticker.MultipleLocator(7))\n",
    "\n",
    "#  Устанавливаем интервал вспомогательных делений:\n",
    "ax.xaxis.set_minor_locator(ticker.MultipleLocator(1))\n",
    "\n",
    "plt.title('Кумулятивное среднее количество заказов на посетителя', fontsize=14) \n",
    "plt.xlabel('Дата', fontsize=13) \n",
    "plt.ylabel('', fontsize=13)\n",
    "plt.xticks(fontsize=12)\n",
    "plt.yticks(fontsize=12)\n",
    "\n",
    "plt.legend(fontsize=12) \n",
    "plt.show()"
   ]
  },
  {
   "cell_type": "markdown",
   "id": "ad9ffce1",
   "metadata": {},
   "source": [
    "<div style=\"border:solid Green 2px; padding: 20px\">\n",
    "Наблюдаем, что средние количества заказов на поситетеля на начальном этапе сильно колебались, но ближе к концу теста установились в близи значений:\n",
    "- 0.029 для группы \"A\"\n",
    "- 0.034 для группы \"B\""
   ]
  },
  {
   "cell_type": "code",
   "execution_count": 161,
   "id": "f29fb57c",
   "metadata": {
    "scrolled": false
   },
   "outputs": [
    {
     "data": {
      "image/png": "[encoded data removed]",
      "text/plain": [
       "<Figure size 720x360 with 1 Axes>"
      ]
     },
     "metadata": {
      "needs_background": "light"
     },
     "output_type": "display_data"
    }
   ],
   "source": [
    "fig, ax = plt.subplots()\n",
    "\n",
    "plt.plot(mergedCumulativeAvgPurchases['date'], mergedCumulativeAvgPurchases['avg_purchases_per_visitor_B'] / mergedCumulativeAvgPurchases['avg_purchases_per_visitor_A'] - 1)\n",
    "plt.axhline(y=0, color='black', linestyle='--')\n",
    "\n",
    "fig.set_size_inches(10, 5)\n",
    "#  Устанавливаем интервал основных делений:\n",
    "ax.xaxis.set_major_locator(ticker.MultipleLocator(7))\n",
    "\n",
    "#  Устанавливаем интервал вспомогательных делений:\n",
    "ax.xaxis.set_minor_locator(ticker.MultipleLocator(1))\n",
    "\n",
    "plt.title('Относительное различие среднего количества заказов групп \"B\" и \"A\"', fontsize=14) \n",
    "plt.xlabel('date', fontsize=13) \n",
    "plt.ylabel('', fontsize=13)\n",
    "plt.xticks(fontsize=12)\n",
    "plt.yticks(fontsize=12)\n",
    "\n",
    "plt.show()\n"
   ]
  },
  {
   "cell_type": "markdown",
   "id": "916bed85",
   "metadata": {},
   "source": [
    "<div style=\"border:solid Green 2px; padding: 20px\">\n",
    "    \n",
    "Из графика также видно, что группа \"B\" имеет среднее количество заказов на посетителя на ~16% выше группы А.\n",
    "Предварительно можно утверждать, что нововведение привело к увеличению данного показателя. Однако для достоверного заключения, необходимо будет провести подобный анализ, отбросим аномальные значения."
   ]
  },
  {
   "cell_type": "markdown",
   "id": "9040ffd2",
   "metadata": {},
   "source": [
    "## Исследование данных. Поиск аномальных значений"
   ]
  },
  {
   "cell_type": "markdown",
   "id": "c3d6d908",
   "metadata": {},
   "source": [
    "<div style=\"border:solid Green 2px; padding: 20px\">\n",
    "Построим точечный график количества заказов по пользователям:"
   ]
  },
  {
   "cell_type": "code",
   "execution_count": 162,
   "id": "8b045ce6",
   "metadata": {
    "scrolled": true
   },
   "outputs": [
    {
     "data": {
      "image/png": "[encoded data removed]",
      "text/plain": [
       "<Figure size 576x360 with 1 Axes>"
      ]
     },
     "metadata": {
      "needs_background": "light"
     },
     "output_type": "display_data"
    }
   ],
   "source": [
    "ordersByUsers = (\n",
    "    orders.groupby('visitorId', as_index=False)\n",
    "    .agg({'transactionId': 'nunique'})\n",
    ")\n",
    "\n",
    "ordersByUsers.columns = ['userId', 'orders']\n",
    "\n",
    "x_values = pd.Series(range(0,len(orders['revenue'])))\n",
    "\n",
    "plt.figure(figsize=(8, 5))\n",
    "plt.scatter(ordersByUsers['userId'], ordersByUsers['orders'])\n",
    "\n",
    "plt.title('Распределение количества заказов по пользователям', fontsize=14)\n",
    "plt.xlabel('Пользователи', fontsize=13)\n",
    "plt.ylabel('Количество заказов', fontsize=13)\n",
    "\n",
    "plt.xticks(fontsize=12)\n",
    "plt.yticks(fontsize=12)\n",
    "plt.show()"
   ]
  },
  {
   "cell_type": "markdown",
   "id": "9ac4563b",
   "metadata": {},
   "source": [
    "<div style=\"border:solid Green 2px; padding: 20px\">\n",
    "Из точечного графика видим, что пользователи совершили от 1 до 3 заказов.\n",
    "Большинство пользователей сделало 1-2 заказа период. \n",
    "\n",
    "*В исходном датафрейме есть пользователи, совершившие более 3 заказов, вплоть до 11. Однако, когда мы убирали задублировавшихся пользователей, все они исчезли из итогового датафрейма*\n",
    "\n"
   ]
  },
  {
   "cell_type": "markdown",
   "id": "1bd1965d",
   "metadata": {},
   "source": [
    "<div style=\"border:solid Green 2px; padding: 20px\">\n",
    "Посчитаем 95-й и 99-й перцентили количества заказов на пользователя. Выберем границу для определения аномальных пользователей:"
   ]
  },
  {
   "cell_type": "code",
   "execution_count": 163,
   "id": "b9caff58",
   "metadata": {},
   "outputs": [
    {
     "data": {
      "text/plain": [
       "array([1., 2.])"
      ]
     },
     "execution_count": 163,
     "metadata": {},
     "output_type": "execute_result"
    }
   ],
   "source": [
    "np.percentile(ordersByUsers['orders'], [95, 99])"
   ]
  },
  {
   "cell_type": "markdown",
   "id": "637a7790",
   "metadata": {},
   "source": [
    "<div style=\"border:solid Green 2px; padding: 20px\">\n",
    "Из этого следует, что:\n",
    " - 95% пользователей совершили не более 2 заказов за период;\n",
    " - 99% пользователей совершили не более 4 заказов за период.\n",
    " \n",
    " Примем 2 заказа за верхнюю границу. Пользователей с большим количество заказов за период отбросим."
   ]
  },
  {
   "cell_type": "markdown",
   "id": "712e3edb",
   "metadata": {},
   "source": [
    "<div style=\"border:solid Green 2px; padding: 20px\">\n",
    "Построим точечный график стоимостей заказов по пользователям:"
   ]
  },
  {
   "cell_type": "code",
   "execution_count": 164,
   "id": "e56716a5",
   "metadata": {},
   "outputs": [
    {
     "data": {
      "image/png": "[encoded data removed]",
      "text/plain": [
       "<Figure size 576x360 with 1 Axes>"
      ]
     },
     "metadata": {
      "needs_background": "light"
     },
     "output_type": "display_data"
    }
   ],
   "source": [
    "x_values = pd.Series(range(0,len(orders['revenue'])))\n",
    "\n",
    "plt.figure(figsize=(8, 5))\n",
    "plt.scatter(x_values, orders['revenue'])\n",
    "\n",
    "plt.xlabel('Заказы', fontsize=13)\n",
    "plt.ylabel('Стоимость', fontsize=13)\n",
    "plt.title('Распределение стоимости заказов', fontsize=14)\n",
    "\n",
    "plt.xticks(fontsize=12)\n",
    "plt.yticks(fontsize=12)\n",
    "plt.show()"
   ]
  },
  {
   "cell_type": "markdown",
   "id": "76804758",
   "metadata": {},
   "source": [
    "<div style=\"border:solid Green 2px; padding: 20px\">\n",
    "Из точечного графика видим аномально крупный заказ на ~1.3 млн. Скорее всего это и есть тот заказ, обеспечивший скачок, который мы наблюдали ранее. Видим также заказ в районе 200 тысяч - еще один выброс\n",
    "\n",
    "Данный масштаб позволяет явно различить только эти крупные выбросы. Зададим ограничения по оси Y для поиска других выбросов."
   ]
  },
  {
   "cell_type": "code",
   "execution_count": 165,
   "id": "5ff3c989",
   "metadata": {
    "scrolled": true
   },
   "outputs": [
    {
     "data": {
      "image/png": "[encoded data removed]",
      "text/plain": [
       "<Figure size 576x360 with 1 Axes>"
      ]
     },
     "metadata": {
      "needs_background": "light"
     },
     "output_type": "display_data"
    }
   ],
   "source": [
    "x_values = pd.Series(range(0,len(orders['revenue'])))\n",
    "\n",
    "plt.figure(figsize=(8, 5))\n",
    "plt.scatter(x_values, orders['revenue'])\n",
    "plt.axis([0, 1050, 0, 120000])\n",
    "\n",
    "fig.set_size_inches(10, 5)\n",
    "plt.title('Распределение стоимости заказов', fontsize=14)\n",
    "plt.xlabel('Заказы', fontsize=13)\n",
    "plt.ylabel('Стоимость', fontsize=13)\n",
    "\n",
    "plt.xticks(fontsize=12)\n",
    "plt.yticks(fontsize=12)\n",
    "plt.show()\n",
    "plt.show()"
   ]
  },
  {
   "cell_type": "markdown",
   "id": "f80f630d",
   "metadata": {},
   "source": [
    "<div style=\"border:solid Green 2px; padding: 20px\">\n",
    "Остальные данные расположены кучно. Отбросим лишнее после расчёта перцентилей."
   ]
  },
  {
   "cell_type": "code",
   "execution_count": 166,
   "id": "66ad9cf5",
   "metadata": {},
   "outputs": [
    {
     "data": {
      "text/plain": [
       "array([26785., 53904.])"
      ]
     },
     "execution_count": 166,
     "metadata": {},
     "output_type": "execute_result"
    }
   ],
   "source": [
    "np.percentile(orders['revenue'], [95, 99])"
   ]
  },
  {
   "cell_type": "markdown",
   "id": "7a693651",
   "metadata": {},
   "source": [
    "<div style=\"border:solid Green 2px; padding: 20px\">\n",
    "Из этого следует, что:\n",
    " - 95% заказов за период не превышали 28 тыс.;\n",
    " - 99% заказов за период не превышали 58,2 тыс.\n",
    " \n",
    "Примем за границу 28 тыс. Заказы с большей стоимостью будем считать выбросами"
   ]
  },
  {
   "cell_type": "markdown",
   "id": "324e5d90",
   "metadata": {},
   "source": [
    "## Статистическая значимость результатов A/B теста без фильтра выбросов."
   ]
  },
  {
   "cell_type": "markdown",
   "id": "d3b55273",
   "metadata": {},
   "source": [
    "<div style=\"border:solid Green 2px; padding: 20px\">\n",
    "Посчитаем статистическую значимость различий в среднем количестве заказов на посетителя между группами по «сырым» данным.\n",
    "Для этого сформируем две выборки:\n",
    "- по группе \"А\";\n",
    "- по группе \"B\"\n",
    "\n",
    "Включим в них также пользователей с нулевыми покупками"
   ]
  },
  {
   "cell_type": "code",
   "execution_count": 167,
   "id": "6a1a2c4e",
   "metadata": {},
   "outputs": [],
   "source": [
    "ordersByUsersA = (\n",
    "    orders[orders['group'] == 'A']\n",
    "    .groupby('visitorId', as_index=False)\n",
    "    .agg({'transactionId': pd.Series.nunique})\n",
    ")\n",
    "ordersByUsersA.columns = ['userId', 'orders']\n",
    "\n",
    "ordersByUsersB = (\n",
    "    orders[orders['group'] == 'B']\n",
    "    .groupby('visitorId', as_index=False)\n",
    "    .agg({'transactionId': pd.Series.nunique})\n",
    ")\n",
    "ordersByUsersB.columns = ['userId', 'orders']\n",
    "\n",
    "visitorsA = visitors[visitors['group'] == 'A']\n",
    "visitorsB = visitors[visitors['group'] == 'B']\n",
    "\n",
    "sample_avg_orders_A = pd.concat([ordersByUsersA['orders'],\n",
    "                                 pd.Series(0, \n",
    "                                           index=np.arange(\n",
    "                                               visitorsA['visitors'].sum() - len(ordersByUsersA['orders'])\n",
    "                                           ), name='orders')\n",
    "                                ], axis=0)\n",
    "sample_avg_orders_B = pd.concat([ordersByUsersB['orders'],\n",
    "                                 pd.Series(0, \n",
    "                                           index=np.arange(\n",
    "                                               visitorsB['visitors'].sum() - len(ordersByUsersB['orders'])\n",
    "                                           ), name='orders')\n",
    "                                ],axis=0)"
   ]
  },
  {
   "cell_type": "markdown",
   "id": "b53bc876",
   "metadata": {},
   "source": [
    "<div style=\"border:solid Green 2px; padding: 20px\">\n",
    "Посчитаем статистическую значимость различий среднего количества заказов на посетителя между группами по «сырым» данным:"
   ]
  },
  {
   "cell_type": "markdown",
   "id": "1c44e779",
   "metadata": {},
   "source": [
    "<div style=\"border:solid Green 2px; padding: 20px\">\n",
    "Нулевая гипотеза <b>H0</b>: средние значения количества заказов на посетителя у групп \"А\" и \"В\" <b>равны</b>.<br>\n",
    "Альтернативная гипотеза <b>H1</b>: средние значения количества заказов на посетителя  у групп \"А\" и \"В\" <b>различны</b>.<br>\n",
    "Для проверки будет использован критерий Уилкоксона-Манна-Уитни."
   ]
  },
  {
   "cell_type": "code",
   "execution_count": 168,
   "id": "d7c7fd9f",
   "metadata": {},
   "outputs": [
    {
     "name": "stdout",
     "output_type": "stream",
     "text": [
      "Среднее значение выборки А: 0.025\n",
      "Среднее значение выборки В: 0.029\n",
      "Относительное различие между средними значеними двух выборок: 15.98%\n",
      "p-value: 0.011\n",
      "\n",
      "Нулевая гипотеза отвергается. Средние значения выборок различны\n"
     ]
    }
   ],
   "source": [
    "alpha = 0.05\n",
    "\n",
    "print('Среднее значение выборки А:', round(sample_avg_orders_A.mean(), 4))\n",
    "print('Среднее значение выборки В:', round(sample_avg_orders_B.mean(), 4))\n",
    "\n",
    "print('Относительное различие между средними значеними двух выборок:', \"{0:.2%}\"\n",
    "      .format(sample_avg_orders_B.mean() / sample_avg_orders_A.mean() - 1)\n",
    "     )\n",
    "print('p-value:', \"{0:.3f}\".format(st.mannwhitneyu(sample_avg_orders_A, sample_avg_orders_B)[1]))\n",
    "print()\n",
    "\n",
    "if st.mannwhitneyu(sample_avg_orders_A, sample_avg_orders_B)[1] < alpha:\n",
    "    print('Нулевая гипотеза отвергается. Средние значения выборок различны')\n",
    "else:\n",
    "    print('Нулевая гипотеза не отвергается. Средние значения выборок равны')\n"
   ]
  },
  {
   "cell_type": "markdown",
   "id": "b053d456",
   "metadata": {},
   "source": [
    "<div style=\"border:solid Green 2px; padding: 20px\">\n",
    "По \"сырым\" данным в выборках среднего количества заказов есть различие. <br>\n",
    "Приняли гипотезу H1, т.к. p-value < порогового значения достоверности (alpha=0.05). "
   ]
  },
  {
   "cell_type": "markdown",
   "id": "9b17ea6b",
   "metadata": {},
   "source": [
    "<div style=\"border:solid Green 2px; padding: 20px\">\n",
    "Посчитаем статистическую значимость различий в среднем чеке заказа между группами по «сырым» данным:"
   ]
  },
  {
   "cell_type": "markdown",
   "id": "be2ae466",
   "metadata": {},
   "source": [
    "<div style=\"border:solid Green 2px; padding: 20px\"><br>\n",
    "Нулевая гипотеза <b>H0</b>: средние значения чека  у групп \"А\" и \"В\"  <b>равны</b>. <br>\n",
    "Альтернативная гипотеза <b>H1</b>: средние значения чека  у групп \"А\" и \"В\"  <b>различны</b>. <br>\n",
    "Для проверки будет использован критерий Уилкоксона-Манна-Уитни."
   ]
  },
  {
   "cell_type": "code",
   "execution_count": 169,
   "id": "65fa4acd",
   "metadata": {
    "scrolled": true
   },
   "outputs": [
    {
     "name": "stdout",
     "output_type": "stream",
     "text": [
      "Относительное различие между средними значеними двух выборок: 28.66%\n",
      "p-value: 0.829\n",
      "\n",
      "Нулевая гипотеза не отвергается. Средние значения выборок равны\n"
     ]
    }
   ],
   "source": [
    "alpha = 0.05\n",
    "\n",
    "sample_avg_bill_A = orders[orders['group']=='A']['revenue']\n",
    "sample_avg_bill_B = orders[orders['group']=='B']['revenue']\n",
    "\n",
    "print('Относительное различие между средними значеними двух выборок:', '{:.2%}'\n",
    "      .format(sample_avg_bill_B.mean() /\n",
    "              sample_avg_bill_A.mean() -1)\n",
    "     )\n",
    "print('p-value:', '{0:.3f}'.format(st.mannwhitneyu(sample_avg_bill_A, sample_avg_bill_B)[1]))\n",
    "print()\n",
    "\n",
    "if st.mannwhitneyu(sample_avg_bill_A, sample_avg_bill_B)[1] < alpha:\n",
    "    print('Нулевая гипотеза отвергается. Средние значения выборок различны')\n",
    "else:\n",
    "    print('Нулевая гипотеза не отвергается. Средние значения выборок равны')"
   ]
  },
  {
   "cell_type": "markdown",
   "id": "2314dcdb",
   "metadata": {},
   "source": [
    "<div style=\"border:solid Green 2px; padding: 20px\">\n",
    "По \"сырым\" данным метод Уилкоксона-Манна-Уитни показывает, что средние значения выборок равны.\n",
    "    \n",
    "Оставили гипотезу H0, т.к. p-value > порогового значения достоверности (alpha = 0.05). "
   ]
  },
  {
   "cell_type": "markdown",
   "id": "ffe4609a",
   "metadata": {},
   "source": [
    "## Построение графиков по данным без аномальных значений"
   ]
  },
  {
   "cell_type": "markdown",
   "id": "84c53e97",
   "metadata": {},
   "source": [
    "<div style=\"border:solid Green 2px; padding: 20px\">\n",
    "Рассчитаем статистическую значимость различий среднего количестве заказов на посетителя между группами по «очищенным» данным."
   ]
  },
  {
   "cell_type": "markdown",
   "id": "917abd0e",
   "metadata": {},
   "source": [
    "<div style=\"border:solid Green 2px; padding: 20px\">\n",
    "Для этого создадим срезы данных с аномальными значениями. Границы, выше которых значения будем считать аномальными:\n",
    "- количество заказов на посетителя > 2;\n",
    "- средний чек > 28000."
   ]
  },
  {
   "cell_type": "code",
   "execution_count": 170,
   "id": "c5df24ee",
   "metadata": {
    "scrolled": true
   },
   "outputs": [
    {
     "name": "stdout",
     "output_type": "stream",
     "text": [
      "Количество пользователей с аномальным количеством заказов: 7\n",
      "Количество заказов с аномальной стоимостью: 48\n",
      "Количество аномальных записей: 55\n"
     ]
    }
   ],
   "source": [
    "usersWithManyOrders = pd.concat(\n",
    "    [\n",
    "        ordersByUsersA[ordersByUsersA['orders'] > 2]['userId'],\n",
    "        ordersByUsersB[ordersByUsersB['orders'] > 2]['userId'],\n",
    "    ],\n",
    "    axis=0,\n",
    ")\n",
    "usersWithExpensiveOrders = orders[orders['revenue'] > 28000]['visitorId']\n",
    "abnormalUsers = (\n",
    "    pd.concat([usersWithManyOrders, usersWithExpensiveOrders], axis=0)\n",
    "    .drop_duplicates()\n",
    "    .sort_values()\n",
    ")\n",
    "\n",
    "print('Количество пользователей с аномальным количеством заказов:', usersWithManyOrders.shape[0])\n",
    "print('Количество заказов с аномальной стоимостью:', usersWithExpensiveOrders.shape[0])\n",
    "print('Количество аномальных записей:', abnormalUsers.shape[0])"
   ]
  },
  {
   "cell_type": "markdown",
   "id": "4b55f494",
   "metadata": {},
   "source": [
    "<div style=\"border:solid Green 2px; padding: 20px\">\n",
    "Далее перестроим графики, используя \"очищенные данные\" для наблюдения реального эффекта без выбросов:"
   ]
  },
  {
   "cell_type": "code",
   "execution_count": 171,
   "id": "d6050e24",
   "metadata": {},
   "outputs": [],
   "source": [
    "abnormalUsersList = abnormalUsers.values\n",
    "orders = orders.query('visitorId not in @abnormalUsersList')"
   ]
  },
  {
   "cell_type": "code",
   "execution_count": 172,
   "id": "0a467b80",
   "metadata": {
    "scrolled": false
   },
   "outputs": [
    {
     "data": {
      "image/png": "[encoded data removed]",
      "text/plain": [
       "<Figure size 720x360 with 1 Axes>"
      ]
     },
     "metadata": {
      "needs_background": "light"
     },
     "output_type": "display_data"
    }
   ],
   "source": [
    "cumulativeRevenue = datesGroups.apply(\n",
    "    lambda x: orders[\n",
    "        np.logical_and(\n",
    "            orders['date'] <= x['date'], orders['group'] == x['group']\n",
    "        )\n",
    "    ].agg(\n",
    "        {\n",
    "            'date': 'max',\n",
    "            'group': 'max',\n",
    "            'revenue': 'sum',\n",
    "        }\n",
    "    ),\n",
    "    axis=1,\n",
    ").sort_values(by=['date', 'group'])\n",
    "\n",
    "cumulativeRevenueA = cumulativeRevenue[cumulativeRevenue['group'] == 'A']\n",
    "cumulativeRevenueB = cumulativeRevenue[cumulativeRevenue['group'] == 'B']\n",
    "\n",
    "\n",
    "mergedCumulativeRevenue = cumulativeRevenueA[['date', 'revenue']].merge(cumulativeRevenueB[['date', 'revenue']], left_on='date', right_on='date', how='left', suffixes=['A', 'B'])\n",
    "\n",
    "fig, ax = plt.subplots()\n",
    "\n",
    "plt.plot(mergedCumulativeRevenue['date'], mergedCumulativeRevenue['revenueA'], label='A')\n",
    "plt.plot(mergedCumulativeRevenue['date'], mergedCumulativeRevenue['revenueB'], label='B')\n",
    "\n",
    "fig.set_size_inches(10, 5)\n",
    "#  Устанавливаем интервал основных делений:\n",
    "ax.xaxis.set_major_locator(ticker.MultipleLocator(7))\n",
    "\n",
    "#  Устанавливаем интервал вспомогательных делений:\n",
    "ax.xaxis.set_minor_locator(ticker.MultipleLocator(1))\n",
    "\n",
    "plt.title('Кумулятивная выручка', fontsize=14) \n",
    "plt.xlabel('Дата', fontsize=13) \n",
    "plt.ylabel('Кумулятивная выручка', fontsize=13)\n",
    "plt.xticks(fontsize=12)\n",
    "plt.yticks(fontsize=12)\n",
    "\n",
    "plt.legend(fontsize=12) \n",
    "plt.show()"
   ]
  },
  {
   "cell_type": "markdown",
   "id": "e8ed049e",
   "metadata": {},
   "source": [
    "<div style=\"border:solid Green 2px; padding: 20px\">\n",
    " Выручка группы B стабильно выше выручки группы А, но теперь на ~15%, а не на ~50%, как было по исходным данным."
   ]
  },
  {
   "cell_type": "code",
   "execution_count": 173,
   "id": "ec71bd73",
   "metadata": {
    "scrolled": true
   },
   "outputs": [
    {
     "data": {
      "image/png": "[encoded data removed]",
      "text/plain": [
       "<Figure size 720x360 with 1 Axes>"
      ]
     },
     "metadata": {
      "needs_background": "light"
     },
     "output_type": "display_data"
    }
   ],
   "source": [
    "cumulativeAverageBill = datesGroups.apply(\n",
    "    lambda x: orders[\n",
    "        np.logical_and(\n",
    "            orders['date'] <= x['date'], orders['group'] == x['group']\n",
    "        )\n",
    "    ].agg(\n",
    "        {\n",
    "            'date': 'max',\n",
    "            'group': 'max',\n",
    "            'revenue': 'sum',\n",
    "            'visitorId': 'count'\n",
    "        }\n",
    "    ),\n",
    "    axis=1,\n",
    ").sort_values(by=['date', 'group'])\n",
    "\n",
    "cumulativeAverageBill.columns = ['date', 'group', 'revenue', 'buyers']\n",
    "\n",
    "cumulativeAverageBill['avg_bill'] = cumulativeAverageBill['revenue'] / cumulativeAverageBill['buyers']\n",
    "\n",
    "cumulativeAverageBillA = cumulativeAverageBill[cumulativeAverageBill['group'] == 'A']\n",
    "cumulativeAverageBillB = cumulativeAverageBill[cumulativeAverageBill['group'] == 'B']\n",
    "\n",
    "mergedCumulativeAverageBill = cumulativeAverageBillA[['date', 'avg_bill']].merge(cumulativeAverageBillB[['date', 'avg_bill']], left_on='date', right_on='date', how='left', suffixes=['A', 'B'])\n",
    "\n",
    "fig, ax = plt.subplots()\n",
    "\n",
    "plt.plot(mergedCumulativeAverageBill['date'], mergedCumulativeAverageBill['avg_billA'], label='A')\n",
    "plt.plot(mergedCumulativeAverageBill['date'], mergedCumulativeAverageBill['avg_billB'], label='B')\n",
    "\n",
    "fig.set_size_inches(10, 5)\n",
    "#  Устанавливаем интервал основных делений:\n",
    "ax.xaxis.set_major_locator(ticker.MultipleLocator(7))\n",
    "\n",
    "#  Устанавливаем интервал вспомогательных делений:\n",
    "ax.xaxis.set_minor_locator(ticker.MultipleLocator(1))\n",
    "\n",
    "plt.title('Кумулятивный средний чек', fontsize=14) \n",
    "plt.xlabel('Дата', fontsize=13) \n",
    "plt.ylabel('Кумулятивный средний чек', fontsize=13)\n",
    "plt.xticks(fontsize=12)\n",
    "plt.yticks(fontsize=12)\n",
    "\n",
    "plt.legend() \n",
    "plt.show()"
   ]
  },
  {
   "cell_type": "markdown",
   "id": "87bfe797",
   "metadata": {},
   "source": [
    "<div style=\"border:solid Green 2px; padding: 20px\">\n",
    "Средний чек группы \"А\" по \"сырым данным\" был на 30% выше. По \"очищенным\" на уровне с группой \"B\". "
   ]
  },
  {
   "cell_type": "code",
   "execution_count": 174,
   "id": "2ee10c54",
   "metadata": {
    "scrolled": true
   },
   "outputs": [
    {
     "data": {
      "image/png": "[encoded data removed]",
      "text/plain": [
       "<Figure size 720x360 with 1 Axes>"
      ]
     },
     "metadata": {
      "needs_background": "light"
     },
     "output_type": "display_data"
    }
   ],
   "source": [
    "fig, ax = plt.subplots()\n",
    "\n",
    "plt.plot(mergedCumulativeAverageBill['date'], mergedCumulativeAverageBill['avg_billB'] / mergedCumulativeAverageBill['avg_billA'] - 1)\n",
    "plt.axhline(y=0, color='black', linestyle='--')\n",
    "\n",
    "fig.set_size_inches(10, 5)\n",
    "#  Устанавливаем интервал основных делений:\n",
    "ax.xaxis.set_major_locator(ticker.MultipleLocator(7))\n",
    "\n",
    "#  Устанавливаем интервал вспомогательных делений:\n",
    "ax.xaxis.set_minor_locator(ticker.MultipleLocator(1))\n",
    "\n",
    "plt.title('Относительное различие среднего чека групп \"B\" и \"A\"', fontsize=14) \n",
    "plt.xlabel('Дата', fontsize=13) \n",
    "plt.ylabel('', fontsize=13)\n",
    "plt.xticks(fontsize=12)\n",
    "plt.yticks(fontsize=12)\n",
    "\n",
    "plt.show()"
   ]
  },
  {
   "cell_type": "markdown",
   "id": "da84f7cc",
   "metadata": {},
   "source": [
    "<div style=\"border:solid Green 2px; padding: 20px\">\n",
    "Средний чек с переменным успехов был то у группы А, то у группы B, но к концу исследования у группы B наблюдался результат в -3%."
   ]
  },
  {
   "cell_type": "code",
   "execution_count": 175,
   "id": "b93acf64",
   "metadata": {
    "scrolled": true
   },
   "outputs": [
    {
     "data": {
      "image/png": "[encoded data removed]",
      "text/plain": [
       "<Figure size 720x360 with 1 Axes>"
      ]
     },
     "metadata": {
      "needs_background": "light"
     },
     "output_type": "display_data"
    }
   ],
   "source": [
    "ordersAggregated = datesGroups.apply(\n",
    "    lambda x: orders[\n",
    "        np.logical_and(\n",
    "            orders['date'] <= x['date'], orders['group'] == x['group']\n",
    "        )\n",
    "    ].agg(\n",
    "        {\n",
    "            'date': 'max',\n",
    "            'group': 'max',\n",
    "            'transactionId': 'nunique',\n",
    "        }\n",
    "    ),\n",
    "    axis=1,\n",
    ").sort_values(by=['date', 'group'])\n",
    "\n",
    "visitorsAggregated = datesGroups.apply(\n",
    "    lambda x: visitors[\n",
    "        np.logical_and(\n",
    "            visitors['date'] <= x['date'], visitors['group'] == x['group']\n",
    "        )\n",
    "    ].agg({'date': 'max', 'group': 'max', 'visitors': 'sum'}),\n",
    "    axis=1,\n",
    ").sort_values(by=['date', 'group'])\n",
    "\n",
    "cumulativeData = ordersAggregated.merge(\n",
    "    visitorsAggregated, left_on=['date', 'group'], right_on=['date', 'group']\n",
    ")\n",
    "cumulativeData.columns = [\n",
    "    'date',\n",
    "    'group',\n",
    "    'orders',\n",
    "    'visitors',\n",
    "]\n",
    "\n",
    "cumulativeData['avg_purchases_per_visitor'] = (\n",
    "    cumulativeData['orders'] / cumulativeData['visitors']\n",
    ")\n",
    "\n",
    "cumulativeDataA = cumulativeData[cumulativeData['group'] == 'A']\n",
    "cumulativeDataB = cumulativeData[cumulativeData['group'] == 'B']\n",
    "\n",
    "mergedCumulativeAvgPurchases = cumulativeDataA[['date', 'avg_purchases_per_visitor']].merge(cumulativeDataB[['date', 'avg_purchases_per_visitor']], left_on='date', right_on='date', how='left', suffixes=['_A', '_B'])\n",
    "\n",
    "fig, ax = plt.subplots()\n",
    "\n",
    "plt.plot(mergedCumulativeAvgPurchases['date'], mergedCumulativeAvgPurchases['avg_purchases_per_visitor_A'], label='A')\n",
    "plt.plot(mergedCumulativeAvgPurchases['date'], mergedCumulativeAvgPurchases['avg_purchases_per_visitor_B'], label='B')\n",
    "\n",
    "fig.set_size_inches(10, 5)\n",
    "#  Устанавливаем интервал основных делений:\n",
    "ax.xaxis.set_major_locator(ticker.MultipleLocator(7))\n",
    "\n",
    "#  Устанавливаем интервал вспомогательных делений:\n",
    "ax.xaxis.set_minor_locator(ticker.MultipleLocator(1))\n",
    "\n",
    "plt.title('Кумулятивное среднее количество заказов на посетителя', fontsize=13) \n",
    "plt.xlabel('Дата', fontsize=13) \n",
    "plt.ylabel('', fontsize=13)\n",
    "plt.xticks(fontsize=12)\n",
    "plt.yticks(fontsize=12)\n",
    "\n",
    "plt.legend(fontsize=12) \n",
    "plt.show()"
   ]
  },
  {
   "cell_type": "markdown",
   "id": "6a39c816",
   "metadata": {},
   "source": [
    "<div style=\"border:solid Green 2px; padding: 20px\">\n",
    "Среднее количество заказов на посетителя незначительно упало в обеих группах (~ -2%), т.к. были отброшены пользователи с большим количеством покупок за период исследования.\n",
    "По этим данным группа B показала себя стабильно лучше, 0.0275 против 0.0230 покупок на пользователя."
   ]
  },
  {
   "cell_type": "code",
   "execution_count": 1,
   "id": "dd150d13",
   "metadata": {},
   "outputs": [
    {
     "ename": "SyntaxError",
     "evalue": "invalid syntax (1543679024.py, line 1)",
     "output_type": "error",
     "traceback": [
      "\u001b[1;36m  Cell \u001b[1;32mIn[1], line 1\u001b[1;36m\u001b[0m\n\u001b[1;33m    <div style=\"border:solid Green 2px; padding: 20px\">\u001b[0m\n\u001b[1;37m    ^\u001b[0m\n\u001b[1;31mSyntaxError\u001b[0m\u001b[1;31m:\u001b[0m invalid syntax\n"
     ]
    }
   ],
   "source": [
    "fig, ax = plt.subplots()\n",
    "\n",
    "plt.plot(mergedCumulativeAvgPurchases['date'], mergedCumulativeAvgPurchases['avg_purchases_per_visitor_B'] / mergedCumulativeAvgPurchases['avg_purchases_per_visitor_A'] - 1)\n",
    "plt.axhline(y=0, color='black', linestyle='--')\n",
    "\n",
    "fig.set_size_inches(10, 5)\n",
    "#  Устанавливаем интервал основных делений:\n",
    "ax.xaxis.set_major_locator(ticker.MultipleLocator(7))\n",
    "\n",
    "#  Устанавливаем интервал вспомогательных делений:\n",
    "ax.xaxis.set_minor_locator(ticker.MultipleLocator(1))\n",
    "\n",
    "plt.title('Относительное различие среднего количества заказов на посетителя групп \"B\" и \"A\"', fontsize=14) \n",
    "plt.xlabel('Дата', fontsize=13) \n",
    "plt.ylabel('', fontsize=13)\n",
    "plt.xticks(fontsize=12)\n",
    "plt.yticks(fontsize=12)\n",
    "\n",
    "plt.show()\n"
   ]
  },
  {
   "cell_type": "markdown",
   "id": "cd8958cd",
   "metadata": {},
   "source": [
    "## Статистическая значимость результатов A/B теста после фильтра выбросов"
   ]
  },
  {
   "cell_type": "markdown",
   "id": "e15ebf13",
   "metadata": {},
   "source": [
    "<div style=\"border:solid Green 2px; padding: 20px\">\n",
    "Посчитаем статистическую значимость различий среднего количества заказов на посетителя между группами по «очищенным» данным:"
   ]
  },
  {
   "cell_type": "markdown",
   "id": "55904759",
   "metadata": {},
   "source": [
    "<div style=\"border:solid Green 2px; padding: 20px\">\n",
    "Нулевая гипотеза <b>H0</b>: средние значения количества заказов на посетителя  у групп \"А\" и \"В\" <b>равны</b>. <br>\n",
    "Альтернативная гипотеза <b>H1</b>: средние значения количества заказов на посетителя  у групп \"А\" и \"В\" <b>различны</b>. <br>\n",
    "Для проверки будет использован критерий Уилкоксона-Манна-Уитни."
   ]
  },
  {
   "cell_type": "code",
   "execution_count": 177,
   "id": "84bd5d7b",
   "metadata": {
    "scrolled": false
   },
   "outputs": [
    {
     "name": "stdout",
     "output_type": "stream",
     "text": [
      "Среднее значение выборки А: 0.023\n",
      "Среднее значение выборки В: 0.0275\n",
      "Относительное различие между средними значеними двух выборок: 19.48%\n",
      "p-value: 0.007\n",
      "\n",
      "Нулевая гипотеза отвергается. Средние значения выборок различны\n"
     ]
    }
   ],
   "source": [
    "sample_avg_orders_A_filtered = pd.concat(\n",
    "    [\n",
    "        ordersByUsersA[\n",
    "            np.logical_not(ordersByUsersA['userId'].isin(abnormalUsers))\n",
    "        ]['orders'],\n",
    "        pd.Series(\n",
    "            0,\n",
    "            index=np.arange(\n",
    "                visitorsA['visitors'].sum() - len(ordersByUsersA['orders'])\n",
    "            ),\n",
    "            name='orders',\n",
    "        ),\n",
    "    ],\n",
    "    axis=0,\n",
    ")\n",
    "\n",
    "sample_avg_orders_B_filtered = pd.concat(\n",
    "    [\n",
    "        ordersByUsersB[\n",
    "            np.logical_not(ordersByUsersB['userId'].isin(abnormalUsers))\n",
    "        ]['orders'],\n",
    "        pd.Series(\n",
    "            0,\n",
    "            index=np.arange(\n",
    "                visitorsA['visitors'].sum() - len(ordersByUsersA['orders'])\n",
    "            ),\n",
    "            name='orders',\n",
    "        ),\n",
    "    ],\n",
    "    axis=0,\n",
    ")\n",
    "\n",
    "alpha = 0.05\n",
    "\n",
    "print('Среднее значение выборки А:', round(sample_avg_orders_A_filtered.mean(), 4))\n",
    "print('Среднее значение выборки В:', round(sample_avg_orders_B_filtered.mean(), 4))\n",
    "\n",
    "print('Относительное различие между средними значеними двух выборок:', \"{0:.2%}\"\n",
    "      .format(sample_avg_orders_B_filtered.mean() / sample_avg_orders_A_filtered.mean() - 1)\n",
    "     )\n",
    "print('p-value:', \"{0:.3f}\".format(st.mannwhitneyu(sample_avg_orders_A_filtered, sample_avg_orders_B_filtered)[1]))\n",
    "print()\n",
    "\n",
    "if st.mannwhitneyu(sample_avg_orders_A_filtered, sample_avg_orders_B_filtered)[1] < alpha:\n",
    "    print('Нулевая гипотеза отвергается. Средние значения выборок различны')\n",
    "else:\n",
    "    print('Нулевая гипотеза не отвергается. Средние значения выборок равны')\n"
   ]
  },
  {
   "cell_type": "markdown",
   "id": "da5fae43",
   "metadata": {},
   "source": [
    "<div style=\"border:solid Green 2px; padding: 20px\">\n",
    "По \"очищенным\" данным в выборках среднего количества заказов есть различие. <br>\n",
    "Приняли гипотезу H1, т.к. p-value < порогового значения достоверности (alpha=0.05). "
   ]
  },
  {
   "cell_type": "markdown",
   "id": "540864b5",
   "metadata": {},
   "source": [
    "<div style=\"border:solid Green 2px; padding: 20px\">\n",
    "Рассчитаем статистическую значимость различий в среднем чеке между группами по «очищенным» данным:"
   ]
  },
  {
   "cell_type": "markdown",
   "id": "2cb8dabd",
   "metadata": {},
   "source": [
    "<div style=\"border:solid Green 2px; padding: 20px\">\n",
    "Нулевая гипотеза <b>H0</b>: средние значения чека  у групп \"А\" и \"В\"  <b>равны</b>. <br>\n",
    "Альтернативная гипотеза <b>H1</b>: средние значения чека  у групп \"А\" и \"В\"  <b>различны</b>. <br>\n",
    "Для проверки будет использован критерий Уилкоксона-Манна-Уитни."
   ]
  },
  {
   "cell_type": "code",
   "execution_count": 178,
   "id": "4f90b472",
   "metadata": {
    "scrolled": true
   },
   "outputs": [
    {
     "name": "stdout",
     "output_type": "stream",
     "text": [
      "Относительное различие между средними значеними двух выборок: -2.24%\n",
      "p-value: 0.762\n",
      "Нулевая гипотеза не отвергается. Средние значения выборок равны\n"
     ]
    }
   ],
   "source": [
    "alpha = 0.05\n",
    "\n",
    "sample_avg_bill_A_filtered = orders[\n",
    "                np.logical_and(\n",
    "                    orders['group'] == 'A',\n",
    "                    np.logical_not(orders['visitorId'].isin(abnormalUsers)),\n",
    "                )\n",
    "            ]['revenue']\n",
    "\n",
    "sample_avg_bill_B_filtered = orders[\n",
    "                np.logical_and(\n",
    "                    orders['group'] == 'B',\n",
    "                    np.logical_not(orders['visitorId'].isin(abnormalUsers)),\n",
    "                )\n",
    "            ]['revenue']\n",
    "\n",
    "print('Относительное различие между средними значеними двух выборок:',\n",
    "    \"{0:.2%}\".format(\n",
    "        sample_avg_bill_B_filtered.mean()\n",
    "        / sample_avg_bill_A_filtered.mean()\n",
    "        - 1\n",
    "    )\n",
    ")\n",
    "\n",
    "print('p-value:',\n",
    "    '{0:.3f}'.format(\n",
    "        st.mannwhitneyu(sample_avg_bill_A_filtered, sample_avg_bill_B_filtered)[1]\n",
    "    )\n",
    ")\n",
    "\n",
    "\n",
    "if st.mannwhitneyu(sample_avg_bill_A_filtered, sample_avg_bill_B_filtered)[1] < alpha:\n",
    "    print('Нулевая гипотеза отвергается. Средние значения выборок различны')\n",
    "else:\n",
    "    print('Нулевая гипотеза не отвергается. Средние значения выборок равны')"
   ]
  },
  {
   "cell_type": "markdown",
   "id": "2961167d",
   "metadata": {},
   "source": [
    "<div style=\"border:solid Green 2px; padding: 20px\">\n",
    "По \"сырым\" данным в выборках среднего чека нет статистической разницы. \n",
    "    \n",
    "Оставили гипотезу H0, т.к. p-value > порогового значения достоверности (alpha = 0.05). "
   ]
  },
  {
   "cell_type": "markdown",
   "id": "5e674687",
   "metadata": {},
   "source": [
    "<div style=\"border:solid Green 2px; padding: 20px\">\n",
    "Сведем в общую таблицу изменения значений кол-ва заказов на посетителя и среднего чека по исходным данным и данным без выбросов:"
   ]
  },
  {
   "cell_type": "code",
   "execution_count": 179,
   "id": "5208e312",
   "metadata": {
    "scrolled": true
   },
   "outputs": [
    {
     "data": {
      "text/html": [
       "<div>\n",
       "<style scoped>\n",
       "    .dataframe tbody tr th:only-of-type {\n",
       "        vertical-align: middle;\n",
       "    }\n",
       "\n",
       "    .dataframe tbody tr th {\n",
       "        vertical-align: top;\n",
       "    }\n",
       "\n",
       "    .dataframe thead th {\n",
       "        text-align: right;\n",
       "    }\n",
       "</style>\n",
       "<table border=\"1\" class=\"dataframe\">\n",
       "  <thead>\n",
       "    <tr style=\"text-align: right;\">\n",
       "      <th></th>\n",
       "      <th>data</th>\n",
       "      <th>metric</th>\n",
       "      <th>difference, %</th>\n",
       "      <th>p-value</th>\n",
       "      <th>stats_result</th>\n",
       "    </tr>\n",
       "  </thead>\n",
       "  <tbody>\n",
       "    <tr>\n",
       "      <th>0</th>\n",
       "      <td>Исходные данные</td>\n",
       "      <td>Средее кол-во заказов на пользователя</td>\n",
       "      <td>15.98%</td>\n",
       "      <td>0.011018</td>\n",
       "      <td>средние значения различны</td>\n",
       "    </tr>\n",
       "    <tr>\n",
       "      <th>1</th>\n",
       "      <td>Исходные данные</td>\n",
       "      <td>Средний чек</td>\n",
       "      <td>28.66%</td>\n",
       "      <td>0.829491</td>\n",
       "      <td>средние значения равны</td>\n",
       "    </tr>\n",
       "    <tr>\n",
       "      <th>2</th>\n",
       "      <td>Данные без выбросов</td>\n",
       "      <td>Средее кол-во заказов на пользователя</td>\n",
       "      <td>19.48%</td>\n",
       "      <td>0.007490</td>\n",
       "      <td>средние значения различны</td>\n",
       "    </tr>\n",
       "    <tr>\n",
       "      <th>3</th>\n",
       "      <td>Данные без выбросов</td>\n",
       "      <td>Средний чек</td>\n",
       "      <td>-2.24%</td>\n",
       "      <td>0.761688</td>\n",
       "      <td>средние значения равны</td>\n",
       "    </tr>\n",
       "  </tbody>\n",
       "</table>\n",
       "</div>"
      ],
      "text/plain": [
       "                  data                                 metric difference, %  \\\n",
       "0  Исходные данные      Средее кол-во заказов на пользователя  15.98%         \n",
       "1  Исходные данные      Средний чек                            28.66%         \n",
       "2  Данные без выбросов  Средее кол-во заказов на пользователя  19.48%         \n",
       "3  Данные без выбросов  Средний чек                            -2.24%         \n",
       "\n",
       "    p-value               stats_result  \n",
       "0  0.011018  средние значения различны  \n",
       "1  0.829491  средние значения равны     \n",
       "2  0.007490  средние значения различны  \n",
       "3  0.761688  средние значения равны     "
      ]
     },
     "execution_count": 179,
     "metadata": {},
     "output_type": "execute_result"
    }
   ],
   "source": [
    "columns = ['data', 'metric', 'difference, %', 'p-value', 'stats_result']\n",
    "data = [\n",
    "    [\"Исходные данные\",\n",
    "     'Средее кол-во заказов на пользователя',\n",
    "     \"{0:.2%}\"\n",
    "      .format(sample_avg_orders_B.mean() / sample_avg_orders_A.mean() - 1),\n",
    "     st.mannwhitneyu(sample_avg_orders_A, sample_avg_orders_B)[1],\n",
    "     'средние значения различны'],\n",
    "    \n",
    "    [\"Исходные данные\",\n",
    "     'Средний чек',\n",
    "     '{:.2%}'\n",
    "      .format(sample_avg_bill_B.mean() /\n",
    "              sample_avg_bill_A.mean() -1),\n",
    "     st.mannwhitneyu(sample_avg_bill_A, sample_avg_bill_B)[1],\n",
    "     'средние значения равны'],\n",
    "    \n",
    "    [\"Данные без выбросов\",\n",
    "     'Средее кол-во заказов на пользователя',\n",
    "     \"{0:.2%}\"\n",
    "      .format(sample_avg_orders_B_filtered.mean() / sample_avg_orders_A_filtered.mean() - 1),\n",
    "     st.mannwhitneyu(sample_avg_orders_A_filtered, sample_avg_orders_B_filtered)[1],\n",
    "     'средние значения различны'],\n",
    "    \n",
    "    [\"Данные без выбросов\",\n",
    "     'Средний чек',\n",
    "     \"{0:.2%}\".format(\n",
    "        sample_avg_bill_B_filtered.mean()\n",
    "        / sample_avg_bill_A_filtered.mean()\n",
    "        - 1\n",
    "    ),\n",
    "     st.mannwhitneyu(sample_avg_bill_A_filtered, sample_avg_bill_B_filtered)[1],\n",
    "     'средние значения равны'],\n",
    "]\n",
    "results = pd.DataFrame(data=data, columns=columns)\n",
    "results.head()"
   ]
  },
  {
   "cell_type": "markdown",
   "id": "ef368f70",
   "metadata": {},
   "source": [
    "## Выводы и рекомендации"
   ]
  },
  {
   "cell_type": "markdown",
   "id": "f979fff7",
   "metadata": {},
   "source": [
    "<div style=\"border:solid Green 2px; padding: 20px\">\n",
    "<b>Выводы</b>:\n",
    "\n",
    "1. Для достижения ключевой цели по увеличению выручки гипотезы были отранжированы по методу RICE. Приоритетной гипотезой стала: \"Добавить форму подписки на все основные страницы, чтобы собрать базу клиентов для email-рассылок\"\n",
    "\n",
    "2. A/B-тест был проведен корректно. Выборки равномерные, количество данных достаточное. Пользователи, попавшие в обе группы, были исключены на этапе анализа.\n",
    "\n",
    "3. По \"сырым данным\" у группы B\n",
    "- выручка выше на 50%;\n",
    "- средний чек выше на 29%;\n",
    "- кол-во заказов на посетителя выше на 16%, чем у группы А.\n",
    "\n",
    "4. При анализе данных были обнаружены выбросы. Было решено отсечь пользователей с числом заказов за период более двух и стоимостью заказов более 28 тыс.\n",
    "\n",
    "5. По \"очищенным данным\" у группы B:\n",
    "- выручка выше на 16%;\n",
    "- средний чек ниже на 2% (статистическая погрешность, p-value = 0.76);\n",
    "- кол-во заказов на посетителя выше на 19%\n",
    "\n",
    "6. Можно заключить, что увеличение целевой метрики, выручки, было достигнуто за счёт увеличения количества заказов на посетителя.\n",
    "7. А/B тест можно считать успешным. Гипотеза прошла проверку и готова к полномасштабному внедрению.\n",
    "\n",
    "<b>Рекомендации</b>:\n",
    "\n",
    "1. Распространить нововведние, успешно прошедшее А/В тест на всех пользователей.\n",
    "2. В дальнейшем при проведении A/B теста отладить процесс таким образом, чтобы пользователи не попадали в обе группы.\n",
    "3. Запустить проверку следующей гипотезы для увелечения выручки."
   ]
  }
 ],
 "metadata": {
  "ExecuteTimeLog": [
   {
    "duration": 1419,
    "start_time": "2023-03-07T10:50:04.612Z"
   },
   {
    "duration": 105,
    "start_time": "2023-03-07T10:50:06.033Z"
   },
   {
    "duration": 14,
    "start_time": "2023-03-07T10:50:06.140Z"
   },
   {
    "duration": 32,
    "start_time": "2023-03-07T10:50:06.157Z"
   },
   {
    "duration": 34,
    "start_time": "2023-03-07T10:50:06.191Z"
   },
   {
    "duration": 33,
    "start_time": "2023-03-07T10:50:06.227Z"
   },
   {
    "duration": 22,
    "start_time": "2023-03-07T10:50:06.262Z"
   },
   {
    "duration": 164,
    "start_time": "2023-03-07T10:50:06.286Z"
   },
   {
    "duration": 9,
    "start_time": "2023-03-07T10:50:06.452Z"
   },
   {
    "duration": 18,
    "start_time": "2023-03-07T10:50:06.463Z"
   },
   {
    "duration": 12,
    "start_time": "2023-03-07T10:50:06.483Z"
   },
   {
    "duration": 12,
    "start_time": "2023-03-07T10:50:06.497Z"
   },
   {
    "duration": 20,
    "start_time": "2023-03-07T10:50:06.511Z"
   },
   {
    "duration": 33,
    "start_time": "2023-03-07T10:50:06.533Z"
   },
   {
    "duration": 28,
    "start_time": "2023-03-07T10:50:06.568Z"
   },
   {
    "duration": 10,
    "start_time": "2023-03-07T10:50:06.598Z"
   },
   {
    "duration": 175,
    "start_time": "2023-03-07T10:50:06.610Z"
   },
   {
    "duration": 316,
    "start_time": "2023-03-07T10:50:06.787Z"
   },
   {
    "duration": 170,
    "start_time": "2023-03-07T10:50:07.105Z"
   },
   {
    "duration": 235,
    "start_time": "2023-03-07T10:50:07.277Z"
   },
   {
    "duration": 367,
    "start_time": "2023-03-07T10:50:07.515Z"
   },
   {
    "duration": 279,
    "start_time": "2023-03-07T10:50:07.884Z"
   },
   {
    "duration": 234,
    "start_time": "2023-03-07T10:50:08.165Z"
   },
   {
    "duration": 306,
    "start_time": "2023-03-07T10:50:08.400Z"
   },
   {
    "duration": 147,
    "start_time": "2023-03-07T10:50:08.708Z"
   },
   {
    "duration": 7,
    "start_time": "2023-03-07T10:50:08.857Z"
   },
   {
    "duration": 225,
    "start_time": "2023-03-07T10:50:08.873Z"
   },
   {
    "duration": 155,
    "start_time": "2023-03-07T10:50:09.103Z"
   },
   {
    "duration": 5,
    "start_time": "2023-03-07T10:50:09.260Z"
   },
   {
    "duration": 159,
    "start_time": "2023-03-07T10:50:09.274Z"
   },
   {
    "duration": 53,
    "start_time": "2023-03-07T10:50:09.435Z"
   },
   {
    "duration": 14,
    "start_time": "2023-03-07T10:50:09.489Z"
   },
   {
    "duration": 204,
    "start_time": "2023-03-07T10:50:09.504Z"
   },
   {
    "duration": 10,
    "start_time": "2023-03-07T10:50:09.710Z"
   },
   {
    "duration": 18,
    "start_time": "2023-03-07T10:50:09.723Z"
   },
   {
    "duration": 378,
    "start_time": "2023-03-07T10:50:09.743Z"
   },
   {
    "duration": 434,
    "start_time": "2023-03-07T10:50:10.123Z"
   },
   {
    "duration": 373,
    "start_time": "2023-03-07T10:50:10.560Z"
   },
   {
    "duration": 499,
    "start_time": "2023-03-07T10:50:10.935Z"
   },
   {
    "duration": 337,
    "start_time": "2023-03-07T10:50:11.436Z"
   },
   {
    "duration": 53,
    "start_time": "2023-03-07T10:50:11.774Z"
   },
   {
    "duration": 15,
    "start_time": "2023-03-07T10:50:11.829Z"
   },
   {
    "duration": 178,
    "start_time": "2023-03-07T10:50:11.845Z"
   },
   {
    "duration": 53,
    "start_time": "2023-03-07T13:34:09.699Z"
   },
   {
    "duration": 1490,
    "start_time": "2023-03-07T13:34:13.005Z"
   },
   {
    "duration": 100,
    "start_time": "2023-03-07T13:34:14.497Z"
   },
   {
    "duration": 13,
    "start_time": "2023-03-07T13:34:14.598Z"
   },
   {
    "duration": 30,
    "start_time": "2023-03-07T13:34:14.613Z"
   },
   {
    "duration": 17,
    "start_time": "2023-03-07T13:34:14.645Z"
   },
   {
    "duration": 9,
    "start_time": "2023-03-07T13:34:14.664Z"
   },
   {
    "duration": 13,
    "start_time": "2023-03-07T13:34:14.674Z"
   },
   {
    "duration": 160,
    "start_time": "2023-03-07T13:34:14.689Z"
   },
   {
    "duration": 8,
    "start_time": "2023-03-07T13:34:14.851Z"
   },
   {
    "duration": 10,
    "start_time": "2023-03-07T13:34:14.861Z"
   },
   {
    "duration": 8,
    "start_time": "2023-03-07T13:34:14.873Z"
   },
   {
    "duration": 12,
    "start_time": "2023-03-07T13:34:14.882Z"
   },
   {
    "duration": 26,
    "start_time": "2023-03-07T13:34:14.895Z"
   },
   {
    "duration": 16,
    "start_time": "2023-03-07T13:34:14.923Z"
   },
   {
    "duration": 17,
    "start_time": "2023-03-07T13:34:14.941Z"
   },
   {
    "duration": 12,
    "start_time": "2023-03-07T13:34:14.959Z"
   },
   {
    "duration": 196,
    "start_time": "2023-03-07T13:34:14.972Z"
   },
   {
    "duration": 304,
    "start_time": "2023-03-07T13:34:15.170Z"
   },
   {
    "duration": 181,
    "start_time": "2023-03-07T13:34:15.476Z"
   },
   {
    "duration": 253,
    "start_time": "2023-03-07T13:34:15.659Z"
   },
   {
    "duration": 356,
    "start_time": "2023-03-07T13:34:15.921Z"
   },
   {
    "duration": 278,
    "start_time": "2023-03-07T13:34:16.278Z"
   },
   {
    "duration": 248,
    "start_time": "2023-03-07T13:34:16.558Z"
   },
   {
    "duration": 335,
    "start_time": "2023-03-07T13:34:16.807Z"
   },
   {
    "duration": 140,
    "start_time": "2023-03-07T13:34:17.144Z"
   },
   {
    "duration": 5,
    "start_time": "2023-03-07T13:34:17.285Z"
   },
   {
    "duration": 230,
    "start_time": "2023-03-07T13:34:17.292Z"
   },
   {
    "duration": 158,
    "start_time": "2023-03-07T13:34:17.527Z"
   },
   {
    "duration": 4,
    "start_time": "2023-03-07T13:34:17.687Z"
   },
   {
    "duration": 156,
    "start_time": "2023-03-07T13:34:17.693Z"
   },
   {
    "duration": 43,
    "start_time": "2023-03-07T13:34:17.851Z"
   },
   {
    "duration": 25,
    "start_time": "2023-03-07T13:34:17.896Z"
   },
   {
    "duration": 221,
    "start_time": "2023-03-07T13:34:17.923Z"
   },
   {
    "duration": 11,
    "start_time": "2023-03-07T13:34:18.147Z"
   },
   {
    "duration": 18,
    "start_time": "2023-03-07T13:34:18.160Z"
   },
   {
    "duration": 414,
    "start_time": "2023-03-07T13:34:18.180Z"
   },
   {
    "duration": 382,
    "start_time": "2023-03-07T13:34:18.595Z"
   },
   {
    "duration": 321,
    "start_time": "2023-03-07T13:34:18.979Z"
   },
   {
    "duration": 577,
    "start_time": "2023-03-07T13:34:19.302Z"
   },
   {
    "duration": 373,
    "start_time": "2023-03-07T13:34:19.882Z"
   },
   {
    "duration": 46,
    "start_time": "2023-03-07T13:34:20.257Z"
   },
   {
    "duration": 33,
    "start_time": "2023-03-07T13:34:20.305Z"
   },
   {
    "duration": 60,
    "start_time": "2023-03-07T13:34:20.341Z"
   },
   {
    "duration": 13,
    "start_time": "2023-03-07T13:34:56.850Z"
   },
   {
    "duration": 5,
    "start_time": "2023-03-07T13:35:03.189Z"
   },
   {
    "duration": 18,
    "start_time": "2023-03-07T13:35:08.431Z"
   },
   {
    "duration": 19,
    "start_time": "2023-03-07T13:35:10.897Z"
   },
   {
    "duration": 7,
    "start_time": "2023-03-07T13:37:02.233Z"
   },
   {
    "duration": 5,
    "start_time": "2023-03-07T13:38:35.298Z"
   },
   {
    "duration": 6,
    "start_time": "2023-03-07T13:38:57.373Z"
   },
   {
    "duration": 7,
    "start_time": "2023-03-07T13:40:27.831Z"
   },
   {
    "duration": 246,
    "start_time": "2023-03-07T13:43:02.422Z"
   },
   {
    "duration": 290,
    "start_time": "2023-03-07T13:43:59.679Z"
   },
   {
    "duration": 227,
    "start_time": "2023-03-07T13:44:19.926Z"
   },
   {
    "duration": 73,
    "start_time": "2023-03-07T13:44:25.596Z"
   },
   {
    "duration": 360,
    "start_time": "2023-03-07T13:44:30.182Z"
   },
   {
    "duration": 276,
    "start_time": "2023-03-07T13:44:45.419Z"
   },
   {
    "duration": 293,
    "start_time": "2023-03-07T13:44:51.877Z"
   },
   {
    "duration": 303,
    "start_time": "2023-03-07T13:44:57.120Z"
   },
   {
    "duration": 280,
    "start_time": "2023-03-07T13:45:33.340Z"
   },
   {
    "duration": 270,
    "start_time": "2023-03-07T13:46:02.148Z"
   },
   {
    "duration": 405,
    "start_time": "2023-03-07T13:46:20.768Z"
   },
   {
    "duration": 279,
    "start_time": "2023-03-07T13:46:27.514Z"
   },
   {
    "duration": 267,
    "start_time": "2023-03-07T13:46:38.992Z"
   },
   {
    "duration": 301,
    "start_time": "2023-03-07T13:46:48.023Z"
   },
   {
    "duration": 276,
    "start_time": "2023-03-07T13:46:53.045Z"
   },
   {
    "duration": 270,
    "start_time": "2023-03-07T13:47:06.238Z"
   },
   {
    "duration": 196,
    "start_time": "2023-03-07T13:47:17.598Z"
   },
   {
    "duration": 261,
    "start_time": "2023-03-07T13:47:57.446Z"
   },
   {
    "duration": 285,
    "start_time": "2023-03-07T13:48:47.136Z"
   },
   {
    "duration": 281,
    "start_time": "2023-03-07T13:50:11.395Z"
   },
   {
    "duration": 383,
    "start_time": "2023-03-07T13:50:38.235Z"
   },
   {
    "duration": 211,
    "start_time": "2023-03-07T13:50:53.924Z"
   },
   {
    "duration": 120,
    "start_time": "2023-03-07T13:51:30.893Z"
   },
   {
    "duration": 153,
    "start_time": "2023-03-07T13:51:39.929Z"
   },
   {
    "duration": 106,
    "start_time": "2023-03-07T13:51:47.093Z"
   },
   {
    "duration": 321,
    "start_time": "2023-03-07T13:51:59.403Z"
   },
   {
    "duration": 220,
    "start_time": "2023-03-07T13:52:13.591Z"
   },
   {
    "duration": 265,
    "start_time": "2023-03-07T13:52:41.343Z"
   },
   {
    "duration": 275,
    "start_time": "2023-03-07T13:53:24.800Z"
   },
   {
    "duration": 170,
    "start_time": "2023-03-07T13:53:37.954Z"
   },
   {
    "duration": 155,
    "start_time": "2023-03-07T13:56:27.178Z"
   },
   {
    "duration": 254,
    "start_time": "2023-03-07T13:56:54.370Z"
   },
   {
    "duration": 158,
    "start_time": "2023-03-07T13:57:25.689Z"
   },
   {
    "duration": 364,
    "start_time": "2023-03-07T13:57:33.992Z"
   },
   {
    "duration": 287,
    "start_time": "2023-03-07T13:57:49.861Z"
   },
   {
    "duration": 233,
    "start_time": "2023-03-07T13:58:06.610Z"
   },
   {
    "duration": 235,
    "start_time": "2023-03-07T13:58:11.765Z"
   },
   {
    "duration": 236,
    "start_time": "2023-03-07T13:58:19.634Z"
   },
   {
    "duration": 254,
    "start_time": "2023-03-07T13:58:22.692Z"
   },
   {
    "duration": 333,
    "start_time": "2023-03-07T13:58:25.892Z"
   },
   {
    "duration": 328,
    "start_time": "2023-03-07T13:58:34.133Z"
   },
   {
    "duration": 330,
    "start_time": "2023-03-07T13:58:42.008Z"
   },
   {
    "duration": 210,
    "start_time": "2023-03-07T13:59:09.246Z"
   },
   {
    "duration": 223,
    "start_time": "2023-03-07T13:59:13.016Z"
   },
   {
    "duration": 239,
    "start_time": "2023-03-07T13:59:16.132Z"
   },
   {
    "duration": 237,
    "start_time": "2023-03-07T13:59:19.277Z"
   },
   {
    "duration": 227,
    "start_time": "2023-03-07T13:59:22.258Z"
   },
   {
    "duration": 221,
    "start_time": "2023-03-07T13:59:25.736Z"
   },
   {
    "duration": 233,
    "start_time": "2023-03-07T13:59:28.416Z"
   },
   {
    "duration": 231,
    "start_time": "2023-03-07T13:59:31.983Z"
   },
   {
    "duration": 238,
    "start_time": "2023-03-07T14:00:17.656Z"
   },
   {
    "duration": 5,
    "start_time": "2023-03-07T14:01:34.388Z"
   },
   {
    "duration": 225,
    "start_time": "2023-03-07T14:01:44.184Z"
   },
   {
    "duration": 351,
    "start_time": "2023-03-07T14:01:51.220Z"
   },
   {
    "duration": 229,
    "start_time": "2023-03-07T14:01:58.679Z"
   },
   {
    "duration": 247,
    "start_time": "2023-03-07T14:02:21.133Z"
   },
   {
    "duration": 237,
    "start_time": "2023-03-07T14:02:47.466Z"
   },
   {
    "duration": 243,
    "start_time": "2023-03-07T14:03:00.079Z"
   },
   {
    "duration": 230,
    "start_time": "2023-03-07T14:03:15.857Z"
   },
   {
    "duration": 223,
    "start_time": "2023-03-07T14:03:39.287Z"
   },
   {
    "duration": 232,
    "start_time": "2023-03-07T14:03:48.714Z"
   },
   {
    "duration": 225,
    "start_time": "2023-03-07T14:04:20.577Z"
   },
   {
    "duration": 221,
    "start_time": "2023-03-07T14:04:42.250Z"
   },
   {
    "duration": 228,
    "start_time": "2023-03-07T14:04:47.753Z"
   },
   {
    "duration": 310,
    "start_time": "2023-03-07T14:08:32.608Z"
   },
   {
    "duration": 249,
    "start_time": "2023-03-07T14:09:23.238Z"
   },
   {
    "duration": 246,
    "start_time": "2023-03-07T14:09:39.545Z"
   },
   {
    "duration": 235,
    "start_time": "2023-03-07T14:09:48.355Z"
   },
   {
    "duration": 291,
    "start_time": "2023-03-07T14:10:35.154Z"
   },
   {
    "duration": 316,
    "start_time": "2023-03-07T14:11:28.845Z"
   },
   {
    "duration": 317,
    "start_time": "2023-03-07T14:11:38.735Z"
   },
   {
    "duration": 316,
    "start_time": "2023-03-07T14:12:21.355Z"
   },
   {
    "duration": 349,
    "start_time": "2023-03-07T14:13:45.607Z"
   },
   {
    "duration": 261,
    "start_time": "2023-03-07T14:14:39.402Z"
   },
   {
    "duration": 234,
    "start_time": "2023-03-07T14:15:16.061Z"
   },
   {
    "duration": 336,
    "start_time": "2023-03-07T14:15:24.551Z"
   },
   {
    "duration": 306,
    "start_time": "2023-03-07T14:16:22.658Z"
   },
   {
    "duration": 369,
    "start_time": "2023-03-07T14:16:47.172Z"
   },
   {
    "duration": 311,
    "start_time": "2023-03-07T14:16:59.271Z"
   },
   {
    "duration": 366,
    "start_time": "2023-03-07T14:18:23.716Z"
   },
   {
    "duration": 368,
    "start_time": "2023-03-07T14:19:22.455Z"
   },
   {
    "duration": 320,
    "start_time": "2023-03-07T14:20:26.312Z"
   },
   {
    "duration": 366,
    "start_time": "2023-03-07T14:20:40.401Z"
   },
   {
    "duration": 589,
    "start_time": "2023-03-07T14:22:09.097Z"
   },
   {
    "duration": 469,
    "start_time": "2023-03-07T14:22:23.967Z"
   },
   {
    "duration": 497,
    "start_time": "2023-03-07T14:22:39.429Z"
   },
   {
    "duration": 312,
    "start_time": "2023-03-07T14:24:16.555Z"
   },
   {
    "duration": 336,
    "start_time": "2023-03-07T14:24:28.093Z"
   },
   {
    "duration": 4,
    "start_time": "2023-03-07T14:25:10.425Z"
   },
   {
    "duration": 65,
    "start_time": "2023-03-07T14:25:10.434Z"
   },
   {
    "duration": 9,
    "start_time": "2023-03-07T14:25:10.501Z"
   },
   {
    "duration": 10,
    "start_time": "2023-03-07T14:25:10.512Z"
   },
   {
    "duration": 12,
    "start_time": "2023-03-07T14:25:10.525Z"
   },
   {
    "duration": 14,
    "start_time": "2023-03-07T14:25:10.680Z"
   },
   {
    "duration": 96,
    "start_time": "2023-03-07T14:25:10.695Z"
   },
   {
    "duration": 8,
    "start_time": "2023-03-07T14:25:10.793Z"
   },
   {
    "duration": 11,
    "start_time": "2023-03-07T14:25:10.803Z"
   },
   {
    "duration": 9,
    "start_time": "2023-03-07T14:25:10.816Z"
   },
   {
    "duration": 27,
    "start_time": "2023-03-07T14:25:10.827Z"
   },
   {
    "duration": 22,
    "start_time": "2023-03-07T14:25:10.856Z"
   },
   {
    "duration": 8,
    "start_time": "2023-03-07T14:25:10.879Z"
   },
   {
    "duration": 13,
    "start_time": "2023-03-07T14:25:10.888Z"
   },
   {
    "duration": 12,
    "start_time": "2023-03-07T14:25:11.008Z"
   },
   {
    "duration": 8,
    "start_time": "2023-03-07T14:25:11.022Z"
   },
   {
    "duration": 244,
    "start_time": "2023-03-07T14:25:11.031Z"
   },
   {
    "duration": 254,
    "start_time": "2023-03-07T14:25:11.277Z"
   },
   {
    "duration": 157,
    "start_time": "2023-03-07T14:25:11.532Z"
   },
   {
    "duration": 253,
    "start_time": "2023-03-07T14:25:11.691Z"
   },
   {
    "duration": 328,
    "start_time": "2023-03-07T14:25:11.945Z"
   },
   {
    "duration": 359,
    "start_time": "2023-03-07T14:25:12.274Z"
   },
   {
    "duration": 248,
    "start_time": "2023-03-07T14:25:12.635Z"
   },
   {
    "duration": 344,
    "start_time": "2023-03-07T14:25:12.885Z"
   },
   {
    "duration": 136,
    "start_time": "2023-03-07T14:25:13.231Z"
   },
   {
    "duration": 5,
    "start_time": "2023-03-07T14:25:13.369Z"
   },
   {
    "duration": 134,
    "start_time": "2023-03-07T14:25:13.375Z"
   },
   {
    "duration": 139,
    "start_time": "2023-03-07T14:25:13.511Z"
   },
   {
    "duration": 6,
    "start_time": "2023-03-07T14:25:13.652Z"
   },
   {
    "duration": 147,
    "start_time": "2023-03-07T14:25:13.660Z"
   },
   {
    "duration": 59,
    "start_time": "2023-03-07T14:25:13.809Z"
   },
   {
    "duration": 13,
    "start_time": "2023-03-07T14:25:13.871Z"
   },
   {
    "duration": 184,
    "start_time": "2023-03-07T14:25:13.886Z"
   },
   {
    "duration": 12,
    "start_time": "2023-03-07T14:25:14.072Z"
   },
   {
    "duration": 8,
    "start_time": "2023-03-07T14:25:14.086Z"
   },
   {
    "duration": 400,
    "start_time": "2023-03-07T14:25:14.096Z"
   },
   {
    "duration": 379,
    "start_time": "2023-03-07T14:25:14.498Z"
   },
   {
    "duration": 382,
    "start_time": "2023-03-07T14:25:14.879Z"
   },
   {
    "duration": 464,
    "start_time": "2023-03-07T14:25:15.263Z"
   },
   {
    "duration": 331,
    "start_time": "2023-03-07T14:25:15.729Z"
   },
   {
    "duration": 42,
    "start_time": "2023-03-07T14:25:16.062Z"
   },
   {
    "duration": 28,
    "start_time": "2023-03-07T14:25:16.106Z"
   },
   {
    "duration": 55,
    "start_time": "2023-03-07T14:25:16.136Z"
   },
   {
    "duration": 134,
    "start_time": "2023-03-07T14:28:35.645Z"
   },
   {
    "duration": 121,
    "start_time": "2023-03-07T14:28:52.193Z"
   },
   {
    "duration": 122,
    "start_time": "2023-03-07T14:29:10.048Z"
   },
   {
    "duration": 231,
    "start_time": "2023-03-07T14:29:17.680Z"
   },
   {
    "duration": 134,
    "start_time": "2023-03-07T14:29:25.985Z"
   },
   {
    "duration": 129,
    "start_time": "2023-03-07T14:29:43.589Z"
   },
   {
    "duration": 134,
    "start_time": "2023-03-07T14:29:46.683Z"
   },
   {
    "duration": 135,
    "start_time": "2023-03-07T14:29:48.927Z"
   },
   {
    "duration": 221,
    "start_time": "2023-03-07T14:29:52.425Z"
   },
   {
    "duration": 123,
    "start_time": "2023-03-07T14:31:02.701Z"
   },
   {
    "duration": 121,
    "start_time": "2023-03-07T14:31:21.583Z"
   },
   {
    "duration": 128,
    "start_time": "2023-03-07T14:31:25.537Z"
   },
   {
    "duration": 136,
    "start_time": "2023-03-07T14:31:41.597Z"
   },
   {
    "duration": 133,
    "start_time": "2023-03-07T14:32:00.015Z"
   },
   {
    "duration": 134,
    "start_time": "2023-03-07T14:32:58.728Z"
   },
   {
    "duration": 132,
    "start_time": "2023-03-07T14:33:37.894Z"
   },
   {
    "duration": 73,
    "start_time": "2023-03-07T14:34:07.637Z"
   },
   {
    "duration": 124,
    "start_time": "2023-03-07T14:35:49.848Z"
   },
   {
    "duration": 4,
    "start_time": "2023-03-07T14:36:00.697Z"
   },
   {
    "duration": 115,
    "start_time": "2023-03-07T14:36:00.706Z"
   },
   {
    "duration": 11,
    "start_time": "2023-03-07T14:36:00.824Z"
   },
   {
    "duration": 35,
    "start_time": "2023-03-07T14:36:00.837Z"
   },
   {
    "duration": 38,
    "start_time": "2023-03-07T14:36:00.874Z"
   },
   {
    "duration": 54,
    "start_time": "2023-03-07T14:36:00.914Z"
   },
   {
    "duration": 141,
    "start_time": "2023-03-07T14:36:00.969Z"
   },
   {
    "duration": 10,
    "start_time": "2023-03-07T14:36:01.111Z"
   },
   {
    "duration": 42,
    "start_time": "2023-03-07T14:36:01.122Z"
   },
   {
    "duration": 25,
    "start_time": "2023-03-07T14:36:01.166Z"
   },
   {
    "duration": 32,
    "start_time": "2023-03-07T14:36:01.194Z"
   },
   {
    "duration": 34,
    "start_time": "2023-03-07T14:36:01.227Z"
   },
   {
    "duration": 29,
    "start_time": "2023-03-07T14:36:01.263Z"
   },
   {
    "duration": 23,
    "start_time": "2023-03-07T14:36:01.294Z"
   },
   {
    "duration": 27,
    "start_time": "2023-03-07T14:36:01.319Z"
   },
   {
    "duration": 30,
    "start_time": "2023-03-07T14:36:01.348Z"
   },
   {
    "duration": 151,
    "start_time": "2023-03-07T14:36:01.380Z"
   },
   {
    "duration": 227,
    "start_time": "2023-03-07T14:36:01.532Z"
   },
   {
    "duration": 171,
    "start_time": "2023-03-07T14:36:01.761Z"
   },
   {
    "duration": 233,
    "start_time": "2023-03-07T14:36:01.933Z"
   },
   {
    "duration": 395,
    "start_time": "2023-03-07T14:36:02.167Z"
   },
   {
    "duration": 267,
    "start_time": "2023-03-07T14:36:02.564Z"
   },
   {
    "duration": 238,
    "start_time": "2023-03-07T14:36:02.833Z"
   },
   {
    "duration": 300,
    "start_time": "2023-03-07T14:36:03.073Z"
   },
   {
    "duration": 163,
    "start_time": "2023-03-07T14:36:03.375Z"
   },
   {
    "duration": 5,
    "start_time": "2023-03-07T14:36:03.539Z"
   },
   {
    "duration": 130,
    "start_time": "2023-03-07T14:36:03.545Z"
   },
   {
    "duration": 123,
    "start_time": "2023-03-07T14:36:09.652Z"
   },
   {
    "duration": 131,
    "start_time": "2023-03-07T14:37:31.623Z"
   },
   {
    "duration": 171,
    "start_time": "2023-03-07T14:38:04.087Z"
   },
   {
    "duration": 139,
    "start_time": "2023-03-07T14:38:32.480Z"
   },
   {
    "duration": 138,
    "start_time": "2023-03-07T14:38:44.726Z"
   },
   {
    "duration": 143,
    "start_time": "2023-03-07T14:38:56.136Z"
   },
   {
    "duration": 243,
    "start_time": "2023-03-07T14:39:05.707Z"
   },
   {
    "duration": 135,
    "start_time": "2023-03-07T14:39:15.080Z"
   },
   {
    "duration": 182,
    "start_time": "2023-03-07T14:39:20.201Z"
   },
   {
    "duration": 138,
    "start_time": "2023-03-07T14:40:01.407Z"
   },
   {
    "duration": 133,
    "start_time": "2023-03-07T14:40:26.485Z"
   },
   {
    "duration": 1144,
    "start_time": "2023-03-07T14:55:15.373Z"
   },
   {
    "duration": 63,
    "start_time": "2023-03-07T14:55:16.519Z"
   },
   {
    "duration": 13,
    "start_time": "2023-03-07T14:55:16.583Z"
   },
   {
    "duration": 11,
    "start_time": "2023-03-07T14:55:16.598Z"
   },
   {
    "duration": 14,
    "start_time": "2023-03-07T14:55:16.610Z"
   },
   {
    "duration": 13,
    "start_time": "2023-03-07T14:55:16.626Z"
   },
   {
    "duration": 90,
    "start_time": "2023-03-07T14:55:16.641Z"
   },
   {
    "duration": 9,
    "start_time": "2023-03-07T14:55:16.733Z"
   },
   {
    "duration": 13,
    "start_time": "2023-03-07T14:55:16.744Z"
   },
   {
    "duration": 8,
    "start_time": "2023-03-07T14:55:16.759Z"
   },
   {
    "duration": 16,
    "start_time": "2023-03-07T14:55:16.769Z"
   },
   {
    "duration": 8,
    "start_time": "2023-03-07T14:55:16.787Z"
   },
   {
    "duration": 10,
    "start_time": "2023-03-07T14:55:16.821Z"
   },
   {
    "duration": 9,
    "start_time": "2023-03-07T14:55:16.833Z"
   },
   {
    "duration": 14,
    "start_time": "2023-03-07T14:55:16.843Z"
   },
   {
    "duration": 8,
    "start_time": "2023-03-07T14:55:16.859Z"
   },
   {
    "duration": 193,
    "start_time": "2023-03-07T14:55:16.869Z"
   },
   {
    "duration": 329,
    "start_time": "2023-03-07T14:55:17.063Z"
   },
   {
    "duration": 169,
    "start_time": "2023-03-07T14:55:17.394Z"
   },
   {
    "duration": 257,
    "start_time": "2023-03-07T14:55:17.564Z"
   },
   {
    "duration": 341,
    "start_time": "2023-03-07T14:55:17.823Z"
   },
   {
    "duration": 293,
    "start_time": "2023-03-07T14:55:18.166Z"
   },
   {
    "duration": 260,
    "start_time": "2023-03-07T14:55:18.461Z"
   },
   {
    "duration": 331,
    "start_time": "2023-03-07T14:55:18.724Z"
   },
   {
    "duration": 170,
    "start_time": "2023-03-07T14:55:19.056Z"
   },
   {
    "duration": 6,
    "start_time": "2023-03-07T14:55:19.227Z"
   },
   {
    "duration": 240,
    "start_time": "2023-03-07T14:55:19.234Z"
   },
   {
    "duration": 170,
    "start_time": "2023-03-07T14:55:19.478Z"
   },
   {
    "duration": 6,
    "start_time": "2023-03-07T14:55:19.649Z"
   },
   {
    "duration": 149,
    "start_time": "2023-03-07T14:55:19.656Z"
   },
   {
    "duration": 54,
    "start_time": "2023-03-07T14:55:19.807Z"
   },
   {
    "duration": 11,
    "start_time": "2023-03-07T14:55:19.863Z"
   },
   {
    "duration": 198,
    "start_time": "2023-03-07T14:55:19.876Z"
   },
   {
    "duration": 11,
    "start_time": "2023-03-07T14:55:20.075Z"
   },
   {
    "duration": 14,
    "start_time": "2023-03-07T14:55:20.088Z"
   },
   {
    "duration": 486,
    "start_time": "2023-03-07T14:55:20.104Z"
   },
   {
    "duration": 425,
    "start_time": "2023-03-07T14:55:20.591Z"
   },
   {
    "duration": 372,
    "start_time": "2023-03-07T14:55:21.018Z"
   },
   {
    "duration": 522,
    "start_time": "2023-03-07T14:55:21.392Z"
   },
   {
    "duration": 348,
    "start_time": "2023-03-07T14:55:21.916Z"
   },
   {
    "duration": 76,
    "start_time": "2023-03-07T14:55:22.265Z"
   },
   {
    "duration": 0,
    "start_time": "2023-03-07T14:55:22.343Z"
   },
   {
    "duration": 0,
    "start_time": "2023-03-07T14:55:22.344Z"
   },
   {
    "duration": 64,
    "start_time": "2023-03-07T14:55:51.479Z"
   },
   {
    "duration": 46,
    "start_time": "2023-03-07T14:55:54.808Z"
   },
   {
    "duration": 15,
    "start_time": "2023-03-07T14:55:54.856Z"
   },
   {
    "duration": 170,
    "start_time": "2023-03-07T14:55:54.873Z"
   },
   {
    "duration": 4,
    "start_time": "2023-03-07T15:36:51.912Z"
   },
   {
    "duration": 76,
    "start_time": "2023-03-07T15:36:51.920Z"
   },
   {
    "duration": 10,
    "start_time": "2023-03-07T15:36:51.999Z"
   },
   {
    "duration": 64,
    "start_time": "2023-03-07T15:36:52.011Z"
   },
   {
    "duration": 67,
    "start_time": "2023-03-07T15:36:52.078Z"
   },
   {
    "duration": 93,
    "start_time": "2023-03-07T15:36:52.147Z"
   },
   {
    "duration": 132,
    "start_time": "2023-03-07T15:36:52.242Z"
   },
   {
    "duration": 129,
    "start_time": "2023-03-07T15:36:52.377Z"
   },
   {
    "duration": 95,
    "start_time": "2023-03-07T15:36:52.508Z"
   },
   {
    "duration": 56,
    "start_time": "2023-03-07T15:36:52.605Z"
   },
   {
    "duration": 20,
    "start_time": "2023-03-07T15:36:52.664Z"
   },
   {
    "duration": 14,
    "start_time": "2023-03-07T15:36:52.686Z"
   },
   {
    "duration": 7,
    "start_time": "2023-03-07T15:36:52.701Z"
   },
   {
    "duration": 23,
    "start_time": "2023-03-07T15:36:52.710Z"
   },
   {
    "duration": 18,
    "start_time": "2023-03-07T15:36:52.734Z"
   },
   {
    "duration": 9,
    "start_time": "2023-03-07T15:36:52.754Z"
   },
   {
    "duration": 176,
    "start_time": "2023-03-07T15:36:52.764Z"
   },
   {
    "duration": 262,
    "start_time": "2023-03-07T15:36:52.942Z"
   },
   {
    "duration": 161,
    "start_time": "2023-03-07T15:36:53.206Z"
   },
   {
    "duration": 252,
    "start_time": "2023-03-07T15:36:53.369Z"
   },
   {
    "duration": 355,
    "start_time": "2023-03-07T15:36:53.623Z"
   },
   {
    "duration": 285,
    "start_time": "2023-03-07T15:36:53.979Z"
   },
   {
    "duration": 273,
    "start_time": "2023-03-07T15:36:54.266Z"
   },
   {
    "duration": 340,
    "start_time": "2023-03-07T15:36:54.541Z"
   },
   {
    "duration": 190,
    "start_time": "2023-03-07T15:36:54.883Z"
   },
   {
    "duration": 5,
    "start_time": "2023-03-07T15:36:55.075Z"
   },
   {
    "duration": 295,
    "start_time": "2023-03-07T15:36:55.081Z"
   },
   {
    "duration": 146,
    "start_time": "2023-03-07T15:36:55.377Z"
   },
   {
    "duration": 5,
    "start_time": "2023-03-07T15:36:55.526Z"
   },
   {
    "duration": 138,
    "start_time": "2023-03-07T15:36:55.532Z"
   },
   {
    "duration": 49,
    "start_time": "2023-03-07T15:36:55.672Z"
   },
   {
    "duration": 16,
    "start_time": "2023-03-07T15:36:55.724Z"
   },
   {
    "duration": 207,
    "start_time": "2023-03-07T15:36:55.742Z"
   },
   {
    "duration": 11,
    "start_time": "2023-03-07T15:36:55.950Z"
   },
   {
    "duration": 28,
    "start_time": "2023-03-07T15:36:55.962Z"
   },
   {
    "duration": 521,
    "start_time": "2023-03-07T15:36:55.992Z"
   },
   {
    "duration": 443,
    "start_time": "2023-03-07T15:36:56.515Z"
   },
   {
    "duration": 348,
    "start_time": "2023-03-07T15:36:56.961Z"
   },
   {
    "duration": 586,
    "start_time": "2023-03-07T15:36:57.310Z"
   },
   {
    "duration": 397,
    "start_time": "2023-03-07T15:36:57.898Z"
   },
   {
    "duration": 68,
    "start_time": "2023-03-07T15:36:58.301Z"
   },
   {
    "duration": 14,
    "start_time": "2023-03-07T15:36:58.371Z"
   },
   {
    "duration": 87,
    "start_time": "2023-03-07T15:36:58.387Z"
   },
   {
    "duration": 164,
    "start_time": "2023-03-07T15:37:47.746Z"
   },
   {
    "duration": 146,
    "start_time": "2023-03-07T15:38:13.840Z"
   },
   {
    "duration": 146,
    "start_time": "2023-03-07T15:38:26.323Z"
   },
   {
    "duration": 3,
    "start_time": "2023-03-07T15:38:35.726Z"
   },
   {
    "duration": 64,
    "start_time": "2023-03-07T15:38:35.734Z"
   },
   {
    "duration": 9,
    "start_time": "2023-03-07T15:38:35.800Z"
   },
   {
    "duration": 28,
    "start_time": "2023-03-07T15:38:35.810Z"
   },
   {
    "duration": 15,
    "start_time": "2023-03-07T15:38:35.841Z"
   },
   {
    "duration": 16,
    "start_time": "2023-03-07T15:38:35.858Z"
   },
   {
    "duration": 86,
    "start_time": "2023-03-07T15:38:35.876Z"
   },
   {
    "duration": 8,
    "start_time": "2023-03-07T15:38:35.964Z"
   },
   {
    "duration": 11,
    "start_time": "2023-03-07T15:38:35.974Z"
   },
   {
    "duration": 9,
    "start_time": "2023-03-07T15:38:35.987Z"
   },
   {
    "duration": 11,
    "start_time": "2023-03-07T15:38:35.998Z"
   },
   {
    "duration": 7,
    "start_time": "2023-03-07T15:38:36.010Z"
   },
   {
    "duration": 7,
    "start_time": "2023-03-07T15:38:36.019Z"
   },
   {
    "duration": 9,
    "start_time": "2023-03-07T15:38:36.028Z"
   },
   {
    "duration": 15,
    "start_time": "2023-03-07T15:38:36.039Z"
   },
   {
    "duration": 11,
    "start_time": "2023-03-07T15:38:36.056Z"
   },
   {
    "duration": 205,
    "start_time": "2023-03-07T15:38:36.069Z"
   },
   {
    "duration": 336,
    "start_time": "2023-03-07T15:38:36.277Z"
   },
   {
    "duration": 167,
    "start_time": "2023-03-07T15:38:36.615Z"
   },
   {
    "duration": 256,
    "start_time": "2023-03-07T15:38:36.784Z"
   },
   {
    "duration": 333,
    "start_time": "2023-03-07T15:38:37.042Z"
   },
   {
    "duration": 282,
    "start_time": "2023-03-07T15:38:37.377Z"
   },
   {
    "duration": 276,
    "start_time": "2023-03-07T15:38:37.661Z"
   },
   {
    "duration": 319,
    "start_time": "2023-03-07T15:38:37.939Z"
   },
   {
    "duration": 173,
    "start_time": "2023-03-07T15:38:38.259Z"
   },
   {
    "duration": 5,
    "start_time": "2023-03-07T15:38:38.433Z"
   },
   {
    "duration": 161,
    "start_time": "2023-03-07T15:38:38.440Z"
   },
   {
    "duration": 143,
    "start_time": "2023-03-07T15:38:38.602Z"
   },
   {
    "duration": 5,
    "start_time": "2023-03-07T15:38:38.749Z"
   },
   {
    "duration": 156,
    "start_time": "2023-03-07T15:38:38.755Z"
   },
   {
    "duration": 47,
    "start_time": "2023-03-07T15:38:38.913Z"
   },
   {
    "duration": 14,
    "start_time": "2023-03-07T15:38:38.961Z"
   },
   {
    "duration": 202,
    "start_time": "2023-03-07T15:38:38.976Z"
   },
   {
    "duration": 10,
    "start_time": "2023-03-07T15:38:39.180Z"
   },
   {
    "duration": 14,
    "start_time": "2023-03-07T15:38:39.192Z"
   },
   {
    "duration": 400,
    "start_time": "2023-03-07T15:38:39.208Z"
   },
   {
    "duration": 507,
    "start_time": "2023-03-07T15:38:39.613Z"
   },
   {
    "duration": 385,
    "start_time": "2023-03-07T15:38:40.121Z"
   },
   {
    "duration": 498,
    "start_time": "2023-03-07T15:38:40.509Z"
   },
   {
    "duration": 356,
    "start_time": "2023-03-07T15:38:41.009Z"
   },
   {
    "duration": 55,
    "start_time": "2023-03-07T15:38:41.367Z"
   },
   {
    "duration": 14,
    "start_time": "2023-03-07T15:38:41.424Z"
   },
   {
    "duration": 53,
    "start_time": "2023-03-07T15:38:41.440Z"
   },
   {
    "duration": 153,
    "start_time": "2023-03-07T15:39:23.497Z"
   },
   {
    "duration": 158,
    "start_time": "2023-03-07T15:39:30.854Z"
   },
   {
    "duration": 169,
    "start_time": "2023-03-07T15:40:12.190Z"
   },
   {
    "duration": 3,
    "start_time": "2023-03-07T15:40:28.174Z"
   },
   {
    "duration": 63,
    "start_time": "2023-03-07T15:40:28.182Z"
   },
   {
    "duration": 11,
    "start_time": "2023-03-07T15:40:28.247Z"
   },
   {
    "duration": 16,
    "start_time": "2023-03-07T15:40:28.260Z"
   },
   {
    "duration": 21,
    "start_time": "2023-03-07T15:40:28.278Z"
   },
   {
    "duration": 19,
    "start_time": "2023-03-07T15:40:28.301Z"
   },
   {
    "duration": 100,
    "start_time": "2023-03-07T15:40:28.322Z"
   },
   {
    "duration": 9,
    "start_time": "2023-03-07T15:40:28.424Z"
   },
   {
    "duration": 28,
    "start_time": "2023-03-07T15:40:28.434Z"
   },
   {
    "duration": 15,
    "start_time": "2023-03-07T15:40:28.463Z"
   },
   {
    "duration": 30,
    "start_time": "2023-03-07T15:40:28.480Z"
   },
   {
    "duration": 8,
    "start_time": "2023-03-07T15:40:28.512Z"
   },
   {
    "duration": 20,
    "start_time": "2023-03-07T15:40:28.522Z"
   },
   {
    "duration": 27,
    "start_time": "2023-03-07T15:40:28.544Z"
   },
   {
    "duration": 28,
    "start_time": "2023-03-07T15:40:28.572Z"
   },
   {
    "duration": 26,
    "start_time": "2023-03-07T15:40:28.602Z"
   },
   {
    "duration": 171,
    "start_time": "2023-03-07T15:40:28.630Z"
   },
   {
    "duration": 241,
    "start_time": "2023-03-07T15:40:28.803Z"
   },
   {
    "duration": 164,
    "start_time": "2023-03-07T15:40:29.046Z"
   },
   {
    "duration": 248,
    "start_time": "2023-03-07T15:40:29.212Z"
   },
   {
    "duration": 442,
    "start_time": "2023-03-07T15:40:29.462Z"
   },
   {
    "duration": 293,
    "start_time": "2023-03-07T15:40:29.905Z"
   },
   {
    "duration": 290,
    "start_time": "2023-03-07T15:40:30.200Z"
   },
   {
    "duration": 366,
    "start_time": "2023-03-07T15:40:30.493Z"
   },
   {
    "duration": 170,
    "start_time": "2023-03-07T15:40:30.861Z"
   },
   {
    "duration": 6,
    "start_time": "2023-03-07T15:40:31.032Z"
   },
   {
    "duration": 188,
    "start_time": "2023-03-07T15:40:31.040Z"
   },
   {
    "duration": 154,
    "start_time": "2023-03-07T15:40:31.229Z"
   },
   {
    "duration": 5,
    "start_time": "2023-03-07T15:40:31.386Z"
   },
   {
    "duration": 149,
    "start_time": "2023-03-07T15:40:31.393Z"
   },
   {
    "duration": 42,
    "start_time": "2023-03-07T15:40:31.544Z"
   },
   {
    "duration": 37,
    "start_time": "2023-03-07T15:40:31.588Z"
   },
   {
    "duration": 10,
    "start_time": "2023-03-07T15:40:31.627Z"
   },
   {
    "duration": 20,
    "start_time": "2023-03-07T15:40:31.638Z"
   },
   {
    "duration": 391,
    "start_time": "2023-03-07T15:40:31.660Z"
   },
   {
    "duration": 402,
    "start_time": "2023-03-07T15:40:32.053Z"
   },
   {
    "duration": 315,
    "start_time": "2023-03-07T15:40:32.456Z"
   },
   {
    "duration": 616,
    "start_time": "2023-03-07T15:40:32.773Z"
   },
   {
    "duration": 387,
    "start_time": "2023-03-07T15:40:33.391Z"
   },
   {
    "duration": 53,
    "start_time": "2023-03-07T15:40:33.780Z"
   },
   {
    "duration": 17,
    "start_time": "2023-03-07T15:40:33.835Z"
   },
   {
    "duration": 59,
    "start_time": "2023-03-07T15:40:33.854Z"
   }
  ],
  "kernelspec": {
   "display_name": "Python 3 (ipykernel)",
   "language": "python",
   "name": "python3"
  },
  "language_info": {
   "codemirror_mode": {
    "name": "ipython",
    "version": 3
   },
   "file_extension": ".py",
   "mimetype": "text/x-python",
   "name": "python",
   "nbconvert_exporter": "python",
   "pygments_lexer": "ipython3",
   "version": "3.9.15"
  },
  "toc": {
   "base_numbering": 1,
   "nav_menu": {},
   "number_sections": true,
   "sideBar": true,
   "skip_h1_title": true,
   "title_cell": "Содержание",
   "title_sidebar": "Contents",
   "toc_cell": true,
   "toc_position": {},
   "toc_section_display": true,
   "toc_window_display": false
  }
 },
 "nbformat": 4,
 "nbformat_minor": 5
}
