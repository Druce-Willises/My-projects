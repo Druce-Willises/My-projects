{
 "cells": [
  {
   "cell_type": "markdown",
   "id": "f8402c6a",
   "metadata": {},
   "source": [
    "# Шифр Цезаря"
   ]
  },
  {
   "cell_type": "markdown",
   "metadata": {
    "toc": true
   },
   "source": [
    "<h1>Содержание<span class=\"tocSkip\"></span></h1>\n",
    "<div class=\"toc\"><ul class=\"toc-item\"><li><span><a href=\"#Шифрование-текста-на-русском-языке\" data-toc-modified-id=\"Шифрование-текста-на-русском-языке-1\"><span class=\"toc-item-num\">1&nbsp;&nbsp;</span>Шифрование текста на русском языке</a></span></li><li><span><a href=\"#Шифрование-текста-на-английском-языке\" data-toc-modified-id=\"Шифрование-текста-на-английском-языке-2\"><span class=\"toc-item-num\">2&nbsp;&nbsp;</span>Шифрование текста на английском языке</a></span></li><li><span><a href=\"#Дешифрование-текста-на-русском-языке\" data-toc-modified-id=\"Дешифрование-текста-на-русском-языке-3\"><span class=\"toc-item-num\">3&nbsp;&nbsp;</span>Дешифрование текста на русском языке</a></span></li><li><span><a href=\"#Дешифрование-текста-на-английском-языке\" data-toc-modified-id=\"Дешифрование-текста-на-английском-языке-4\"><span class=\"toc-item-num\">4&nbsp;&nbsp;</span>Дешифрование текста на английском языке</a></span></li><li><span><a href=\"#Дешифрование-текста-на-английском-языке-с-неизвестным-ключом\" data-toc-modified-id=\"Дешифрование-текста-на-английском-языке-с-неизвестным-ключом-5\"><span class=\"toc-item-num\">5&nbsp;&nbsp;</span>Дешифрование текста на английском языке с неизвестным ключом</a></span></li><li><span><a href=\"#Шифрование-модифицированным-шифром-цезаря\" data-toc-modified-id=\"Шифрование-модифицированным-шифром-цезаря-6\"><span class=\"toc-item-num\">6&nbsp;&nbsp;</span>Шифрование модифицированным шифром цезаря</a></span></li></ul></div>"
   ]
  },
  {
   "cell_type": "markdown",
   "metadata": {},
   "source": [
    "## Шифрование текста на русском языке"
   ]
  },
  {
   "cell_type": "code",
   "execution_count": 67,
   "metadata": {},
   "outputs": [
    {
     "name": "stdout",
     "output_type": "stream",
     "text": [
      "Лхкрпч, фьш мпъэпь, ьпщхш пцэ чк ымпьп!\n"
     ]
    }
   ],
   "source": [
    "# Шифр рус\n",
    "rot = 10\n",
    "string = \"Строка\" \n",
    "list1 = [string[i] for i in range(len(string))]\n",
    "\n",
    "list2 = []         \n",
    "for i in range (len(list1)):\n",
    "    if (ord(list1[i]) >= 1072 and\n",
    "        ord(list1[i]) <= 1103):\n",
    "        new_werb = chr(((ord(list1[i]) + rot - 1072) % 32) + 1072)\n",
    "        list2.append(new_werb)\n",
    "        \n",
    "    elif (ord(list1[i]) >= 1040 and\n",
    "        ord(list1[i]) <= 1071):\n",
    "        new_werb = chr(((ord(list1[i]) + rot - 1040) % 32) + 1040)        \n",
    "        list2.append(new_werb)\n",
    "    else:\n",
    "        new_werb = list1[i]\n",
    "        list2.append(new_werb)\n",
    "        \n",
    "result = ''.join(list2)\n",
    "print(result)    \n"
   ]
  },
  {
   "cell_type": "markdown",
   "metadata": {},
   "source": [
    "## Шифрование текста на английском языке"
   ]
  },
  {
   "cell_type": "code",
   "execution_count": 5,
   "metadata": {
    "scrolled": true
   },
   "outputs": [
    {
     "name": "stdout",
     "output_type": "stream",
     "text": [
      "Kf sv, fi efk kf sv, kyrk zj kyv hlvjkzfe!\n"
     ]
    }
   ],
   "source": [
    "# Шифр англ\n",
    "rot = 17\n",
    "string = \"To be, or not to be, that is the question!\" \n",
    "list1 = [string[i] for i in range(len(string))]\n",
    "\n",
    "list2 = []         \n",
    "for i in range (len(list1)):\n",
    "    if (ord(list1[i]) >= 65 and\n",
    "        ord(list1[i]) <= 90):\n",
    "        new_werb = chr(((ord(list1[i]) + rot - 65) % 26) + 65)\n",
    "        list2.append(new_werb)\n",
    "        \n",
    "    elif (ord(list1[i]) >= 97 and\n",
    "        ord(list1[i]) <= 122):\n",
    "        new_werиb = chr(((ord(list1[i]) + rot - 97) % 26) + 97)        \n",
    "        list2.append(new_werb)\n",
    "    else:\n",
    "        new_werb = list1[i]\n",
    "        list2.append(new_werb)\n",
    "        \n",
    "result = ''.join(list2)\n",
    "print(result)    \n"
   ]
  },
  {
   "cell_type": "markdown",
   "metadata": {},
   "source": [
    "## Дешифрование текста на русском языке"
   ]
  },
  {
   "cell_type": "code",
   "execution_count": 15,
   "metadata": {},
   "outputs": [
    {
     "name": "stdout",
     "output_type": "stream",
     "text": [
      "Скупой теряет все, желая все достать.\n"
     ]
    }
   ],
   "source": [
    "# деШифр рус\n",
    "\n",
    "derot = 7\n",
    "string = \"Шсъцхр щмчжмщ йшм, нмтзж йшм лхшщзщг.\" \n",
    "list1 = [string[i] for i in range(len(string))]\n",
    "\n",
    "list2 = []         \n",
    "for i in range (len(list1)):\n",
    "    if (ord(list1[i]) >= 1072 and\n",
    "        ord(list1[i]) <= 1103):## Шифрование текста на английском языке\n",
    "        if ord(list1[i]) - 1072 - derot < 0:\n",
    "            new_werb = chr(32 + (ord(list1[i]) - derot))\n",
    "        else:\n",
    "            new_werb = chr(((ord(list1[i]) - derot - 1072) % 32) + 1072)\n",
    "        list2.append(new_werb)\n",
    "        \n",
    "    elif (ord(list1[i]) >= 1040 and\n",
    "        ord(list1[i]) <= 1071):\n",
    "        if ord(list1[i]) - 1040 - derot < 0:\n",
    "            new_werb = chr(32 + (ord(list1[i]) - derot))\n",
    "        else:    \n",
    "            new_werb = chr(((ord(list1[i]) - derot - 1040) % 32) + 1040)        \n",
    "        list2.append(new_werb)\n",
    "    else:\n",
    "        new_werb = list1[i]\n",
    "        list2.append(new_werb)\n",
    "        \n",
    "result = ''.join(list2)\n",
    "print(result)    \n"
   ]
  },
  {
   "cell_type": "markdown",
   "metadata": {},
   "source": [
    "## Дешифрование текста на английском языке"
   ]
  },
  {
   "cell_type": "code",
   "execution_count": 20,
   "metadata": {},
   "outputs": [
    {
     "name": "stdout",
     "output_type": "stream",
     "text": [
      "The grass is always greener on the other side of the fence.\n"
     ]
    }
   ],
   "source": [
    "# деШифр англ\n",
    "\n",
    "derot = 25\n",
    "string = \"Sgd fqzrr hr zkvzxr fqddmdq nm sgd nsgdq rhcd ne sgd edmbd.\"\n",
    "list1 = [string[i] for i in range(len(string))]\n",
    "\n",
    "list2 = []         \n",
    "for i in range (len(list1)):\n",
    "    if (ord(list1[i]) >= 65 and\n",
    "        ord(list1[i]) <= 90):## Шифрование текста на английском языке\n",
    "        if ord(list1[i]) - 90 - derot < 0:\n",
    "            new_werb = chr(26 + (ord(list1[i]) - derot))\n",
    "        else:\n",
    "            new_werb = chr(((ord(list1[i]) - derot - 65) % 26) + 65)\n",
    "        list2.append(new_werb)\n",
    "        \n",
    "    elif (ord(list1[i]) >= 97 and\n",
    "        ord(list1[i]) <= 122):\n",
    "        if ord(list1[i]) - 97 - derot < 0:\n",
    "            new_werb = chr(26 + (ord(list1[i]) - derot))\n",
    "        else:    \n",
    "            new_werb = chr(((ord(list1[i]) - derot - 97) % 26) + 97)        \n",
    "        list2.append(new_werb)\n",
    "    else:\n",
    "        new_werb = list1[i]\n",
    "        list2.append(new_werb)\n",
    "        \n",
    "result = ''.join(list2)\n",
    "print(result)    \n"
   ]
  },
  {
   "cell_type": "markdown",
   "metadata": {},
   "source": [
    "## Дешифрование текста на английском языке с неизвестным ключом"
   ]
  },
  {
   "cell_type": "code",
   "execution_count": 21,
   "metadata": {},
   "outputs": [
    {
     "name": "stdout",
     "output_type": "stream",
     "text": [
      "0 bawnj pk swhg xabkna ukq nqj.\n",
      "1 azvmi oj rvgf wzajmz tjp mpi.\n",
      "2 `yulh ni qufe vyzily sio loh.\n",
      "3 _xtkg mh pted uxyhkx rhn kng.\n",
      "4 ^wsjf lg osdc twxgjw qgm jmf.\n",
      "5 ]vrie kf nrcb svwfiv pfl ile.\n",
      "6 \\uqhd je mqba ruvehu oek hkd.\n",
      "7 [tpgc id lpaz qtudgt ndj gjc.\n",
      "8 Zsofb hc kozy pstcfs mci fib.\n",
      "9 Yrnea gb jnyx orsber lbh eha.\n",
      "10 Xqmdz fa imxw nqradq kag dgz.\n",
      "11 Wplcy ez hlwv mpqzcp jzf cfy.\n",
      "12 Vokbx dy gkvu lopybo iye bex.\n",
      "13 Unjaw cx fjut knoxan hxd adw.\n",
      "14 Tmizv bw eits jmnwzm gwc zcv.\n",
      "15 Slhyu av dhsr ilmvyl fvb ybu.\n",
      "16 Rkgxt zu cgrq hkluxk eua xat.\n",
      "17 Qjfws yt bfqp gjktwj dtz wzs.\n",
      "18 Pievr xs aepo fijsvi csy vyr.\n",
      "19 Ohduq wr zdon ehiruh brx uxq.\n",
      "20 Ngctp vq ycnm dghqtg aqw twp.\n",
      "21 Mfbso up xbml cfgpsf zpv svo.\n",
      "22 Learn to walk before you run.\n",
      "23 Kdzqm sn vzkj adenqd xnt qtm.\n",
      "24 Jcypl rm uyji zcdmpc wms psl.\n",
      "25 Ibxok ql txih ybclob vlr ork.\n"
     ]
    }
   ],
   "source": [
    "# деШифр англ с неизвестным ключом\n",
    "\n",
    "for k in range(26):\n",
    "    derot = k\n",
    "    string = \"Hawnj pk swhg xabkna ukq nqj.\"\n",
    "    list1 = [string[i] for i in range(len(string))]\n",
    "    \n",
    "    list2 = []         \n",
    "    for i in range (len(list1)):\n",
    "        if (ord(list1[i]) >= 65 and\n",
    "            ord(list1[i]) <= 90):\n",
    "            \n",
    "            if ord(list1[i]) - 90 - derot < 0:\n",
    "                new_werb = chr(26 + (ord(list1[i]) - derot))\n",
    "            else:\n",
    "                new_werb = chr(((ord(list1[i]) - derot - 65) % 26) + 65)\n",
    "            list2.append(new_werb)\n",
    "            \n",
    "        elif (ord(list1[i]) >= 97 and\n",
    "            ord(list1[i]) <= 122):\n",
    "            if ord(list1[i]) - 97 - derot < 0:\n",
    "                new_werb = chr(26 + (ord(list1[i]) - derot))\n",
    "            else:    \n",
    "                new_werb = chr(((ord(list1[i]) - derot - 97) % 26) + 97)        \n",
    "            list2.append(new_werb)\n",
    "        else:\n",
    "            new_werb = list1[i]\n",
    "            list2.append(new_werb)\n",
    "            \n",
    "    result = ''.join(list2)\n",
    "    print(k, result)    \n"
   ]
  },
  {
   "cell_type": "markdown",
   "metadata": {},
   "source": [
    "## Шифрование модифицированным шифром цезаря"
   ]
  },
  {
   "cell_type": "markdown",
   "metadata": {},
   "source": [
    "Ключ шифрования принимается равным длине слова."
   ]
  },
  {
   "cell_type": "code",
   "execution_count": 24,
   "metadata": {},
   "outputs": [
    {
     "name": "stdout",
     "output_type": "stream",
     "text": [
      "Day, mice. \"Year\" is a mistake!\n",
      "Gdb, qmgi. \"Ciev\" ku b tpzahrl!\n"
     ]
    }
   ],
   "source": [
    "# шифр англ в зависимости от длины слова\n",
    "\n",
    "string = input()\n",
    "words = string.split() # Строка разбивается на слова\n",
    "list3 = []\n",
    "\n",
    "for word in range(len(words)): # Цикл для работы со словами\n",
    "    rot = 0\n",
    "    for j in range(len(words[word])): # Цикл для вычисления сдвига в зависимости от длины слова\n",
    "        if (ord(words[word][j]) >= 65 and  ord(words[word][j]) <= 90) or (ord(words[word][j]) >= 97 and  ord(words[word][j]) <= 122):\n",
    "            rot += 1                  # Накапливаем 1 за каждую букву, за другие символы не накапливаем\n",
    "    \n",
    "    letters = [words[word][i] for i in range(len(words[word]))] # Разбиваем слово на буквы для дальнейшего пробразования\n",
    "    \n",
    "    list2 = []         \n",
    "    for i in range (len(letters)): # Цикл по изменению каждой буквы в соотвествии с ключом\n",
    "        if (ord(letters[i]) >= 65 and # Проверка по строчным буквам\n",
    "            ord(letters[i]) <= 90):\n",
    "            new_werb = chr(((ord(letters[i]) + rot - 65) % 26) + 65)\n",
    "            list2.append(new_werb) # Добавляем букву в список\n",
    "            \n",
    "        elif (ord(letters[i]) >= 97 and # Проверка по заглавным буквам\n",
    "            ord(letters[i]) <= 122):\n",
    "            new_werb = chr(((ord(letters[i]) + rot - 97) % 26) + 97)        \n",
    "            list2.append(new_werb) # Добавляем букву в список\n",
    "        else: # Другие символы ее меняем\n",
    "            new_werb = letters[i]\n",
    "            list2.append(new_werb)\n",
    "            \n",
    "    if word != len(words) - 1: # К каждому слову, кроме последнего добавляем пробел\n",
    "        list2.append(' ')        \n",
    "    result = ''.join(list2) # склеиваем буквы в слово\n",
    "    list3.append(result)  # добавялем слово в итоговый список\n",
    "    \n",
    "itog_result = ''.join(list3) # Склеиваем слова во фразу\n",
    "print(itog_result)"
   ]
  }
 ],
 "metadata": {
  "kernelspec": {
   "display_name": "Python 3 (ipykernel)",
   "language": "python",
   "name": "python3"
  },
  "language_info": {
   "codemirror_mode": {
    "name": "ipython",
    "version": 3
   },
   "file_extension": ".py",
   "mimetype": "text/x-python",
   "name": "python",
   "nbconvert_exporter": "python",
   "pygments_lexer": "ipython3",
   "version": "3.9.15"
  },
  "toc": {
   "base_numbering": 1,
   "nav_menu": {},
   "number_sections": true,
   "sideBar": true,
   "skip_h1_title": true,
   "title_cell": "Содержание",
   "title_sidebar": "Contents",
   "toc_cell": true,
   "toc_position": {},
   "toc_section_display": true,
   "toc_window_display": false
  }
 },
 "nbformat": 4,
 "nbformat_minor": 4
}
